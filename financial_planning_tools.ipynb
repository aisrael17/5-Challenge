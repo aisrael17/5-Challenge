{
 "cells": [
  {
   "cell_type": "markdown",
   "metadata": {},
   "source": [
    "# Financial Planning with APIs and Simulations\n",
    "\n",
    "In this Challenge, you’ll create two financial analysis tools by using a single Jupyter notebook:\n",
    "\n",
    "Part 1: A financial planner for emergencies. The members will be able to use this tool to visualize their current savings. The members can then determine if they have enough reserves for an emergency fund.\n",
    "\n",
    "Part 2: A financial planner for retirement. This tool will forecast the performance of their retirement portfolio in 30 years. To do this, the tool will make an Alpaca API call via the Alpaca SDK to get historical price data for use in Monte Carlo simulations.\n",
    "\n",
    "You’ll use the information from the Monte Carlo simulation to answer questions about the portfolio in your Jupyter notebook.\n",
    "\n"
   ]
  },
  {
   "cell_type": "code",
   "execution_count": 2,
   "metadata": {},
   "outputs": [],
   "source": [
    "# Import the required libraries and dependencies\n",
    "import os\n",
    "import requests\n",
    "import json\n",
    "import pandas as pd\n",
    "from dotenv import load_dotenv\n",
    "import alpaca_trade_api as tradeapi\n",
    "from MCForecastTools import MCSimulation\n",
    "\n",
    "%matplotlib inline"
   ]
  },
  {
   "cell_type": "code",
   "execution_count": 5,
   "metadata": {},
   "outputs": [
    {
     "data": {
      "text/plain": [
       "True"
      ]
     },
     "execution_count": 5,
     "metadata": {},
     "output_type": "execute_result"
    }
   ],
   "source": [
    "# Load the environment variables from the .env file\n",
    "#by calling the load_dotenv function\n",
    "load_dotenv('api.env')"
   ]
  },
  {
   "cell_type": "markdown",
   "metadata": {},
   "source": [
    "## Part 1: Create a Financial Planner for Emergencies"
   ]
  },
  {
   "cell_type": "markdown",
   "metadata": {},
   "source": [
    "### Evaluate the Cryptocurrency Wallet by Using the Requests Library\n",
    "\n",
    "In this section, you’ll determine the current value of a member’s cryptocurrency wallet. You’ll collect the current prices for the Bitcoin and Ethereum cryptocurrencies by using the Python Requests library. For the prototype, you’ll assume that the member holds the 1.2 Bitcoins (BTC) and 5.3 Ethereum coins (ETH). To do all this, complete the following steps:\n",
    "\n",
    "1. Create a variable named `monthly_income`, and set its value to `12000`.\n",
    "\n",
    "2. Use the Requests library to get the current price (in US dollars) of Bitcoin (BTC) and Ethereum (ETH) by using the API endpoints that the starter code supplies.\n",
    "\n",
    "3. Navigate the JSON response object to access the current price of each coin, and store each in a variable.\n",
    "\n",
    "    > **Hint** Note the specific identifier for each cryptocurrency in the API JSON response. The Bitcoin identifier is `1`, and the Ethereum identifier is `1027`.\n",
    "\n",
    "4. Calculate the value, in US dollars, of the current amount of each cryptocurrency and of the entire cryptocurrency wallet.\n",
    "\n"
   ]
  },
  {
   "cell_type": "code",
   "execution_count": 6,
   "metadata": {},
   "outputs": [],
   "source": [
    "# The current number of coins for each cryptocurrency asset held in the portfolio.\n",
    "btc_coins = 1.2\n",
    "eth_coins = 5.3"
   ]
  },
  {
   "cell_type": "markdown",
   "metadata": {},
   "source": [
    "#### Step 1: Create a variable named `monthly_income`, and set its value to `12000`."
   ]
  },
  {
   "cell_type": "code",
   "execution_count": 7,
   "metadata": {},
   "outputs": [],
   "source": [
    "# The monthly amount for the member's household income\n",
    "monthly_income = 12000\n"
   ]
  },
  {
   "cell_type": "markdown",
   "metadata": {},
   "source": [
    "#### Review the endpoint URLs for the API calls to Free Crypto API in order to get the current pricing information for both BTC and ETH."
   ]
  },
  {
   "cell_type": "code",
   "execution_count": 8,
   "metadata": {},
   "outputs": [],
   "source": [
    "# The Free Crypto API Call endpoint URLs for the held cryptocurrency assets\n",
    "btc_url = \"https://api.alternative.me/v2/ticker/Bitcoin/?convert=USD\"\n",
    "eth_url = \"https://api.alternative.me/v2/ticker/Ethereum/?convert=USD\""
   ]
  },
  {
   "cell_type": "markdown",
   "metadata": {},
   "source": [
    "#### Step 2. Use the Requests library to get the current price (in US dollars) of Bitcoin (BTC) and Ethereum (ETH) by using the API endpoints that the starter code supplied."
   ]
  },
  {
   "cell_type": "code",
   "execution_count": 14,
   "metadata": {},
   "outputs": [
    {
     "name": "stdout",
     "output_type": "stream",
     "text": [
      "{\n",
      "    \"data\": {\n",
      "        \"1\": {\n",
      "            \"circulating_supply\": 19161381,\n",
      "            \"id\": 1,\n",
      "            \"last_updated\": 1664219916,\n",
      "            \"max_supply\": 21000000,\n",
      "            \"name\": \"Bitcoin\",\n",
      "            \"quotes\": {\n",
      "                \"USD\": {\n",
      "                    \"market_cap\": 367769682370,\n",
      "                    \"percent_change_1h\": 0.125888243424777,\n",
      "                    \"percent_change_24h\": 1.01745575934513,\n",
      "                    \"percent_change_7d\": -1.33570511784795,\n",
      "                    \"percentage_change_1h\": 0.125888243424777,\n",
      "                    \"percentage_change_24h\": 1.01745575934513,\n",
      "                    \"percentage_change_7d\": -1.33570511784795,\n",
      "                    \"price\": 19177.53,\n",
      "                    \"volume_24h\": 41883716465\n",
      "                }\n",
      "            },\n",
      "            \"rank\": 1,\n",
      "            \"symbol\": \"BTC\",\n",
      "            \"total_supply\": 19161381,\n",
      "            \"website_slug\": \"bitcoin\"\n",
      "        }\n",
      "    },\n",
      "    \"metadata\": {\n",
      "        \"error\": null,\n",
      "        \"num_cryptocurrencies\": 3116,\n",
      "        \"timestamp\": 1664219916\n",
      "    }\n",
      "}\n"
     ]
    }
   ],
   "source": [
    "# Using the Python requests library, make an API call to access the current price of BTC\n",
    "btc_response = requests.get(btc_url).json()\n",
    "\n",
    "# Use the json.dumps function to review the response data from the API call\n",
    "# Use the indent and sort_keys parameters to make the response object readable\n",
    "print(json.dumps(btc_response, indent=4, sort_keys=True))\n"
   ]
  },
  {
   "cell_type": "code",
   "execution_count": 16,
   "metadata": {},
   "outputs": [
    {
     "name": "stdout",
     "output_type": "stream",
     "text": [
      "{\n",
      "    \"data\": {\n",
      "        \"1027\": {\n",
      "            \"circulating_supply\": 120694146,\n",
      "            \"id\": 1027,\n",
      "            \"last_updated\": 1664228033,\n",
      "            \"max_supply\": 120693472,\n",
      "            \"name\": \"Ethereum\",\n",
      "            \"quotes\": {\n",
      "                \"USD\": {\n",
      "                    \"market_cap\": 159556295171,\n",
      "                    \"percent_change_1h\": -0.324088535272035,\n",
      "                    \"percent_change_24h\": 2.61831551869421,\n",
      "                    \"percent_change_7d\": -1.01297493775053,\n",
      "                    \"percentage_change_1h\": -0.324088535272035,\n",
      "                    \"percentage_change_24h\": 2.61831551869421,\n",
      "                    \"percentage_change_7d\": -1.01297493775053,\n",
      "                    \"price\": 1322.32,\n",
      "                    \"volume_24h\": 15860703532\n",
      "                }\n",
      "            },\n",
      "            \"rank\": 2,\n",
      "            \"symbol\": \"ETH\",\n",
      "            \"total_supply\": 120694146,\n",
      "            \"website_slug\": \"ethereum\"\n",
      "        }\n",
      "    },\n",
      "    \"metadata\": {\n",
      "        \"error\": null,\n",
      "        \"num_cryptocurrencies\": 3116,\n",
      "        \"timestamp\": 1664228033\n",
      "    }\n",
      "}\n"
     ]
    }
   ],
   "source": [
    "# Using the Python requests library, make an API call to access the current price ETH\n",
    "eth_response = requests.get(eth_url).json()\n",
    "\n",
    "# Use the json.dumps function to review the response data from the API call\n",
    "# Use the indent and sort_keys parameters to make the response object readable\n",
    "print(json.dumps(eth_response, indent=4, sort_keys=True))\n"
   ]
  },
  {
   "cell_type": "markdown",
   "metadata": {},
   "source": [
    "#### Step 3: Navigate the JSON response object to access the current price of each coin, and store each in a variable."
   ]
  },
  {
   "cell_type": "code",
   "execution_count": 21,
   "metadata": {},
   "outputs": [
    {
     "data": {
      "text/plain": [
       "19177.53"
      ]
     },
     "execution_count": 21,
     "metadata": {},
     "output_type": "execute_result"
    }
   ],
   "source": [
    "# Navigate the BTC response object to access the current price of BTC\n",
    "btc_price = btc_response['data']['1']['quotes']['USD']['price']\n",
    "\n",
    "# Print the current price of BTC\n",
    "btc_price\n"
   ]
  },
  {
   "cell_type": "code",
   "execution_count": 22,
   "metadata": {},
   "outputs": [
    {
     "data": {
      "text/plain": [
       "1322.32"
      ]
     },
     "execution_count": 22,
     "metadata": {},
     "output_type": "execute_result"
    }
   ],
   "source": [
    "# Navigate the BTC response object to access the current price of ETH\n",
    "eth_price = eth_response['data']['1027']['quotes']['USD']['price']\n",
    "\n",
    "# Print the current price of ETH\n",
    "eth_price\n"
   ]
  },
  {
   "cell_type": "markdown",
   "metadata": {},
   "source": [
    "### Step 4: Calculate the value, in US dollars, of the current amount of each cryptocurrency and of the entire cryptocurrency wallet."
   ]
  },
  {
   "cell_type": "code",
   "execution_count": 23,
   "metadata": {},
   "outputs": [
    {
     "data": {
      "text/plain": [
       "23013.035999999996"
      ]
     },
     "execution_count": 23,
     "metadata": {},
     "output_type": "execute_result"
    }
   ],
   "source": [
    "# Compute the current value of the BTC holding \n",
    "btc_value = btc_coins * btc_price\n",
    "\n",
    "# Print current value of your holding in BTC\n",
    "btc_value\n",
    "\n"
   ]
  },
  {
   "cell_type": "code",
   "execution_count": 24,
   "metadata": {},
   "outputs": [
    {
     "data": {
      "text/plain": [
       "7008.295999999999"
      ]
     },
     "execution_count": 24,
     "metadata": {},
     "output_type": "execute_result"
    }
   ],
   "source": [
    "# Compute the current value of the ETH holding \n",
    "eth_value = eth_coins * eth_price\n",
    "\n",
    "# Print current value of your holding in ETH\n",
    "eth_value\n"
   ]
  },
  {
   "cell_type": "code",
   "execution_count": 25,
   "metadata": {},
   "outputs": [
    {
     "data": {
      "text/plain": [
       "30021.331999999995"
      ]
     },
     "execution_count": 25,
     "metadata": {},
     "output_type": "execute_result"
    }
   ],
   "source": [
    "# Compute the total value of the cryptocurrency wallet\n",
    "# Add the value of the BTC holding to the value of the ETH holding\n",
    "total_crypto_wallet = btc_value + eth_value\n",
    "\n",
    "# Print current cryptocurrency wallet balance\n",
    "total_crypto_wallet\n"
   ]
  },
  {
   "cell_type": "markdown",
   "metadata": {},
   "source": [
    "### Evaluate the Stock and Bond Holdings by Using the Alpaca SDK\n",
    "\n",
    "In this section, you’ll determine the current value of a member’s stock and bond holdings. You’ll make an API call to Alpaca via the Alpaca SDK to get the current closing prices of the SPDR S&P 500 ETF Trust (ticker: SPY) and of the iShares Core US Aggregate Bond ETF (ticker: AGG). For the prototype, assume that the member holds 110 shares of SPY, which represents the stock portion of their portfolio, and 200 shares of AGG, which represents the bond portion. To do all this, complete the following steps:\n",
    "\n",
    "1. In the `Starter_Code` folder, create an environment file (`.env`) to store the values of your Alpaca API key and Alpaca secret key.\n",
    "\n",
    "2. Set the variables for the Alpaca API and secret keys. Using the Alpaca SDK, create the Alpaca `tradeapi.REST` object. In this object, include the parameters for the Alpaca API key, the secret key, and the version number.\n",
    "\n",
    "3. Set the following parameters for the Alpaca API call:\n",
    "\n",
    "    - `tickers`: Use the tickers for the member’s stock and bond holdings.\n",
    "\n",
    "    - `timeframe`: Use a time frame of one day.\n",
    "\n",
    "    - `start_date` and `end_date`: Use the same date for these parameters, and format them with the date of the previous weekday (or `2020-08-07`). This is because you want the one closing price for the most-recent trading day.\n",
    "\n",
    "4. Get the current closing prices for `SPY` and `AGG` by using the Alpaca `get_bars` function. Format the response as a Pandas DataFrame by including the `df` property at the end of the `get_bars` function.\n",
    "\n",
    "5. Navigating the Alpaca response DataFrame, select the `SPY` and `AGG` closing prices, and store them as variables.\n",
    "\n",
    "6. Calculate the value, in US dollars, of the current amount of shares in each of the stock and bond portions of the portfolio, and print the results.\n"
   ]
  },
  {
   "cell_type": "markdown",
   "metadata": {},
   "source": [
    "#### Review the total number of shares held in both (SPY) and (AGG)."
   ]
  },
  {
   "cell_type": "code",
   "execution_count": 26,
   "metadata": {},
   "outputs": [],
   "source": [
    "# Current amount of shares held in both the stock (SPY) and bond (AGG) portion of the portfolio.\n",
    "spy_shares = 110\n",
    "agg_shares = 200\n"
   ]
  },
  {
   "cell_type": "markdown",
   "metadata": {},
   "source": [
    "#### Step 1: In the `Starter_Code` folder, create an environment file (`.env`) to store the values of your Alpaca API key and Alpaca secret key."
   ]
  },
  {
   "cell_type": "markdown",
   "metadata": {},
   "source": [
    "#### Step 2: Set the variables for the Alpaca API and secret keys. Using the Alpaca SDK, create the Alpaca `tradeapi.REST` object. In this object, include the parameters for the Alpaca API key, the secret key, and the version number."
   ]
  },
  {
   "cell_type": "code",
   "execution_count": 27,
   "metadata": {},
   "outputs": [],
   "source": [
    "load_dotenv('api.env')\n",
    "\n",
    "# Set the variables for the Alpaca API and secret keys\n",
    "alpaca_api_key = os.getenv('ALPACA_API_KEY')\n",
    "alpaca_secret_key = os.getenv('ALPACA_SECRET_KEY')\n",
    "\n",
    "# Create the Alpaca tradeapi.REST object\n",
    "alpaca = tradeapi.REST(\n",
    "    alpaca_api_key,\n",
    "    alpaca_secret_key,\n",
    "    api_version = 'v2')\n"
   ]
  },
  {
   "cell_type": "markdown",
   "metadata": {},
   "source": [
    "#### Step 3: Set the following parameters for the Alpaca API call:\n",
    "\n",
    "- `tickers`: Use the tickers for the member’s stock and bond holdings.\n",
    "\n",
    "- `timeframe`: Use a time frame of one day.\n",
    "\n",
    "- `start_date` and `end_date`: Use the same date for these parameters, and format them with the date of the previous weekday (or `2020-08-07`). This is because you want the one closing price for the most-recent trading day.\n"
   ]
  },
  {
   "cell_type": "code",
   "execution_count": 28,
   "metadata": {},
   "outputs": [],
   "source": [
    "# Set the tickers for both the bond and stock portion of the portfolio\n",
    "tickers = ['SPY', 'AGG']\n",
    "\n",
    "# Set timeframe to 1Day\n",
    "timeframe = '1Day'\n",
    "\n",
    "# Format current date as ISO format\n",
    "# Set both the start and end date at the date of your prior weekday \n",
    "# This will give you the closing price of the previous trading day\n",
    "# Alternatively you can use a start and end date of 2020-08-07\n",
    "start_date = pd.Timestamp('2022-09-23', tz=\"America/New_York\").isoformat()\n",
    "end_date = pd.Timestamp('2022-09-23', tz='America/New_York').isoformat()\n"
   ]
  },
  {
   "cell_type": "markdown",
   "metadata": {},
   "source": [
    "#### Step 4: Get the current closing prices for `SPY` and `AGG` by using the Alpaca `get_bars` function. Format the response as a Pandas DataFrame by including the `df` property at the end of the `get_bars` function."
   ]
  },
  {
   "cell_type": "code",
   "execution_count": 29,
   "metadata": {},
   "outputs": [
    {
     "data": {
      "text/html": [
       "<div>\n",
       "<style scoped>\n",
       "    .dataframe tbody tr th:only-of-type {\n",
       "        vertical-align: middle;\n",
       "    }\n",
       "\n",
       "    .dataframe tbody tr th {\n",
       "        vertical-align: top;\n",
       "    }\n",
       "\n",
       "    .dataframe thead tr th {\n",
       "        text-align: left;\n",
       "    }\n",
       "\n",
       "    .dataframe thead tr:last-of-type th {\n",
       "        text-align: right;\n",
       "    }\n",
       "</style>\n",
       "<table border=\"1\" class=\"dataframe\">\n",
       "  <thead>\n",
       "    <tr>\n",
       "      <th></th>\n",
       "      <th colspan=\"7\" halign=\"left\">SPY</th>\n",
       "      <th colspan=\"7\" halign=\"left\">AGG</th>\n",
       "    </tr>\n",
       "    <tr>\n",
       "      <th></th>\n",
       "      <th>open</th>\n",
       "      <th>high</th>\n",
       "      <th>low</th>\n",
       "      <th>close</th>\n",
       "      <th>volume</th>\n",
       "      <th>trade_count</th>\n",
       "      <th>vwap</th>\n",
       "      <th>open</th>\n",
       "      <th>high</th>\n",
       "      <th>low</th>\n",
       "      <th>close</th>\n",
       "      <th>volume</th>\n",
       "      <th>trade_count</th>\n",
       "      <th>vwap</th>\n",
       "    </tr>\n",
       "    <tr>\n",
       "      <th>timestamp</th>\n",
       "      <th></th>\n",
       "      <th></th>\n",
       "      <th></th>\n",
       "      <th></th>\n",
       "      <th></th>\n",
       "      <th></th>\n",
       "      <th></th>\n",
       "      <th></th>\n",
       "      <th></th>\n",
       "      <th></th>\n",
       "      <th></th>\n",
       "      <th></th>\n",
       "      <th></th>\n",
       "      <th></th>\n",
       "    </tr>\n",
       "  </thead>\n",
       "  <tbody>\n",
       "    <tr>\n",
       "      <th>2022-09-23 04:00:00+00:00</th>\n",
       "      <td>370.58</td>\n",
       "      <td>370.62</td>\n",
       "      <td>363.29</td>\n",
       "      <td>367.95</td>\n",
       "      <td>121574096</td>\n",
       "      <td>838774</td>\n",
       "      <td>367.579806</td>\n",
       "      <td>97.4</td>\n",
       "      <td>97.45</td>\n",
       "      <td>96.89</td>\n",
       "      <td>97.2</td>\n",
       "      <td>11053650</td>\n",
       "      <td>41351</td>\n",
       "      <td>97.135798</td>\n",
       "    </tr>\n",
       "  </tbody>\n",
       "</table>\n",
       "</div>"
      ],
      "text/plain": [
       "                              SPY                                     \\\n",
       "                             open    high     low   close     volume   \n",
       "timestamp                                                              \n",
       "2022-09-23 04:00:00+00:00  370.58  370.62  363.29  367.95  121574096   \n",
       "\n",
       "                                                    AGG                      \\\n",
       "                          trade_count        vwap  open   high    low close   \n",
       "timestamp                                                                     \n",
       "2022-09-23 04:00:00+00:00      838774  367.579806  97.4  97.45  96.89  97.2   \n",
       "\n",
       "                                                            \n",
       "                             volume trade_count       vwap  \n",
       "timestamp                                                   \n",
       "2022-09-23 04:00:00+00:00  11053650       41351  97.135798  "
      ]
     },
     "execution_count": 29,
     "metadata": {},
     "output_type": "execute_result"
    }
   ],
   "source": [
    "# Use the Alpaca get_bars function to get current closing prices the portfolio\n",
    "# Be sure to set the `df` property after the function to format the response object as a DataFrame\n",
    "prices_df = alpaca.get_bars(\n",
    "    tickers,\n",
    "    timeframe,\n",
    "    start=start_date,\n",
    "    end=end_date).df\n",
    "\n",
    "# Reorganize the DataFrame\n",
    "# Separate ticker data\n",
    "spy_prices = prices_df[prices_df['symbol'] == 'SPY'].drop('symbol', axis=1)\n",
    "agg_prices = prices_df[prices_df['symbol'] == 'AGG'].drop('symbol', axis=1)\n",
    "\n",
    "# Concatenate the ticker DataFrames\n",
    "prices_df = pd.concat([spy_prices, agg_prices], axis=1, keys=['SPY', 'AGG'])\n",
    "\n",
    "# Review the first 5 rows of the Alpaca DataFrame\n",
    "prices_df.head()\n"
   ]
  },
  {
   "cell_type": "markdown",
   "metadata": {},
   "source": [
    "#### Step 5: Navigating the Alpaca response DataFrame, select the `SPY` and `AGG` closing prices, and store them as variables."
   ]
  },
  {
   "cell_type": "code",
   "execution_count": 34,
   "metadata": {},
   "outputs": [
    {
     "data": {
      "text/plain": [
       "97.2"
      ]
     },
     "execution_count": 34,
     "metadata": {},
     "output_type": "execute_result"
    }
   ],
   "source": [
    "# Access the closing price for AGG from the Alpaca DataFrame\n",
    "# Converting the value to a floating point number\n",
    "agg_close_price = float(prices_df['AGG']['close'][0])\n",
    "\n",
    "# Print the AGG closing price\n",
    "agg_close_price\n"
   ]
  },
  {
   "cell_type": "code",
   "execution_count": 36,
   "metadata": {},
   "outputs": [
    {
     "data": {
      "text/plain": [
       "367.95"
      ]
     },
     "execution_count": 36,
     "metadata": {},
     "output_type": "execute_result"
    }
   ],
   "source": [
    "# Access the closing price for SPY from the Alpaca DataFrame\n",
    "# Converting the value to a floating point number\n",
    "spy_close_price = float(prices_df['SPY']['close'][0])\n",
    "\n",
    "# Print the SPY closing price\n",
    "spy_close_price\n"
   ]
  },
  {
   "cell_type": "markdown",
   "metadata": {},
   "source": [
    "#### Step 6: Calculate the value, in US dollars, of the current amount of shares in each of the stock and bond portions of the portfolio, and print the results."
   ]
  },
  {
   "cell_type": "code",
   "execution_count": 38,
   "metadata": {},
   "outputs": [
    {
     "data": {
      "text/plain": [
       "19440.0"
      ]
     },
     "execution_count": 38,
     "metadata": {},
     "output_type": "execute_result"
    }
   ],
   "source": [
    "# Calculate the current value of the bond portion of the portfolio\n",
    "agg_value = agg_close_price * agg_shares\n",
    "\n",
    "# Print the current value of the bond portfolio\n",
    "agg_value"
   ]
  },
  {
   "cell_type": "code",
   "execution_count": 37,
   "metadata": {},
   "outputs": [
    {
     "data": {
      "text/plain": [
       "40474.5"
      ]
     },
     "execution_count": 37,
     "metadata": {},
     "output_type": "execute_result"
    }
   ],
   "source": [
    "# Calculate the current value of the stock portion of the portfolio\n",
    "spy_value = spy_close_price * spy_shares\n",
    "\n",
    "# Print the current value of the stock portfolio\n",
    "spy_value"
   ]
  },
  {
   "cell_type": "code",
   "execution_count": 39,
   "metadata": {},
   "outputs": [
    {
     "data": {
      "text/plain": [
       "59914.5"
      ]
     },
     "execution_count": 39,
     "metadata": {},
     "output_type": "execute_result"
    }
   ],
   "source": [
    "# Calculate the total value of the stock and bond portion of the portfolio\n",
    "total_stocks_bonds = spy_value + agg_value\n",
    "\n",
    "# Print the current balance of the stock and bond portion of the portfolio\n",
    "total_stocks_bonds\n"
   ]
  },
  {
   "cell_type": "code",
   "execution_count": 43,
   "metadata": {},
   "outputs": [
    {
     "data": {
      "text/plain": [
       "89935.832"
      ]
     },
     "execution_count": 43,
     "metadata": {},
     "output_type": "execute_result"
    }
   ],
   "source": [
    "# Calculate the total value of the member's entire savings portfolio\n",
    "# Add the value of the cryptocurrency walled to the value of the total stocks and bonds\n",
    "total_portfolio = total_crypto_wallet + total_stocks_bonds\n",
    "\n",
    "# Print current cryptocurrency wallet balance\n",
    "total_portfolio\n"
   ]
  },
  {
   "cell_type": "markdown",
   "metadata": {},
   "source": [
    "### Evaluate the Emergency Fund\n",
    "\n",
    "In this section, you’ll use the valuations for the cryptocurrency wallet and for the stock and bond portions of the portfolio to determine if the credit union member has enough savings to build an emergency fund into their financial plan. To do this, complete the following steps:\n",
    "\n",
    "1. Create a Python list named `savings_data` that has two elements. The first element contains the total value of the cryptocurrency wallet. The second element contains the total value of the stock and bond portions of the portfolio.\n",
    "\n",
    "2. Use the `savings_data` list to create a Pandas DataFrame named `savings_df`, and then display this DataFrame. The function to create the DataFrame should take the following three parameters:\n",
    "\n",
    "    - `savings_data`: Use the list that you just created.\n",
    "\n",
    "    - `columns`: Set this parameter equal to a Python list with a single value called `amount`.\n",
    "\n",
    "    - `index`: Set this parameter equal to a Python list with the values of `crypto` and `stock/bond`.\n",
    "\n",
    "3. Use the `savings_df` DataFrame to plot a pie chart that visualizes the composition of the member’s portfolio. The y-axis of the pie chart uses `amount`. Be sure to add a title.\n",
    "\n",
    "4. Using Python, determine if the current portfolio has enough to create an emergency fund as part of the member’s financial plan. Ideally, an emergency fund should equal to three times the member’s monthly income. To do this, implement the following steps:\n",
    "\n",
    "    1. Create a variable named `emergency_fund_value`, and set it equal to three times the value of the member’s `monthly_income` of $12000. (You set this earlier in Part 1).\n",
    "\n",
    "    2. Create a series of three if statements to determine if the member’s total portfolio is large enough to fund the emergency portfolio:\n",
    "\n",
    "        1. If the total portfolio value is greater than the emergency fund value, display a message congratulating the member for having enough money in this fund.\n",
    "\n",
    "        2. Else if the total portfolio value is equal to the emergency fund value, display a message congratulating the member on reaching this important financial goal.\n",
    "\n",
    "        3. Else the total portfolio is less than the emergency fund value, so display a message showing how many dollars away the member is from reaching the goal. (Subtract the total portfolio value from the emergency fund value.)\n"
   ]
  },
  {
   "cell_type": "markdown",
   "metadata": {},
   "source": [
    "#### Step 1: Create a Python list named `savings_data` that has two elements. The first element contains the total value of the cryptocurrency wallet. The second element contains the total value of the stock and bond portions of the portfolio."
   ]
  },
  {
   "cell_type": "code",
   "execution_count": 44,
   "metadata": {},
   "outputs": [
    {
     "data": {
      "text/plain": [
       "[30021.331999999995, 59914.5]"
      ]
     },
     "execution_count": 44,
     "metadata": {},
     "output_type": "execute_result"
    }
   ],
   "source": [
    "# Consolidate financial assets data into a Python list\n",
    "savings_data = [total_crypto_wallet, total_stocks_bonds]\n",
    "\n",
    "# Review the Python list savings_data\n",
    "savings_data\n",
    "    "
   ]
  },
  {
   "cell_type": "markdown",
   "metadata": {},
   "source": [
    "#### Step 2: Use the `savings_data` list to create a Pandas DataFrame named `savings_df`, and then display this DataFrame. The function to create the DataFrame should take the following three parameters:\n",
    "\n",
    "- `savings_data`: Use the list that you just created.\n",
    "\n",
    "- `columns`: Set this parameter equal to a Python list with a single value called `amount`.\n",
    "\n",
    "- `index`: Set this parameter equal to a Python list with the values of `crypto` and `stock/bond`.\n"
   ]
  },
  {
   "cell_type": "code",
   "execution_count": 46,
   "metadata": {},
   "outputs": [
    {
     "data": {
      "text/html": [
       "<div>\n",
       "<style scoped>\n",
       "    .dataframe tbody tr th:only-of-type {\n",
       "        vertical-align: middle;\n",
       "    }\n",
       "\n",
       "    .dataframe tbody tr th {\n",
       "        vertical-align: top;\n",
       "    }\n",
       "\n",
       "    .dataframe thead th {\n",
       "        text-align: right;\n",
       "    }\n",
       "</style>\n",
       "<table border=\"1\" class=\"dataframe\">\n",
       "  <thead>\n",
       "    <tr style=\"text-align: right;\">\n",
       "      <th></th>\n",
       "      <th>amount</th>\n",
       "    </tr>\n",
       "  </thead>\n",
       "  <tbody>\n",
       "    <tr>\n",
       "      <th>crypto</th>\n",
       "      <td>30021.332</td>\n",
       "    </tr>\n",
       "    <tr>\n",
       "      <th>stock/bond</th>\n",
       "      <td>59914.500</td>\n",
       "    </tr>\n",
       "  </tbody>\n",
       "</table>\n",
       "</div>"
      ],
      "text/plain": [
       "               amount\n",
       "crypto      30021.332\n",
       "stock/bond  59914.500"
      ]
     },
     "metadata": {},
     "output_type": "display_data"
    }
   ],
   "source": [
    "# Create a Pandas DataFrame called savings_df \n",
    "savings_df = pd.DataFrame(\n",
    "    savings_data,\n",
    "    columns=['amount'],\n",
    "    index=['crypto', 'stock/bond'])\n",
    "\n",
    "# Display the savings_df DataFrame\n",
    "display(savings_df)\n"
   ]
  },
  {
   "cell_type": "markdown",
   "metadata": {},
   "source": [
    "#### Step 3: Use the `savings_df` DataFrame to plot a pie chart that visualizes the composition of the member’s portfolio. The y-axis of the pie chart uses `amount`. Be sure to add a title."
   ]
  },
  {
   "cell_type": "code",
   "execution_count": 50,
   "metadata": {},
   "outputs": [
    {
     "data": {
      "text/plain": [
       "<AxesSubplot:title={'center':'Contribution to Portfolio by Asset Type'}, ylabel='amount'>"
      ]
     },
     "execution_count": 50,
     "metadata": {},
     "output_type": "execute_result"
    },
    {
     "data": {
      "image/png": "[encoded data removed]",
      "text/plain": [
       "<Figure size 576x576 with 1 Axes>"
      ]
     },
     "metadata": {},
     "output_type": "display_data"
    }
   ],
   "source": [
    "# Plot the total value of the member's portfolio (crypto and stock/bond) in a pie chart\n",
    "savings_df.plot(kind='pie', y='amount', title='Contribution to Portfolio by Asset Type',figsize=(8,8))\n"
   ]
  },
  {
   "cell_type": "markdown",
   "metadata": {},
   "source": [
    "#### Step 4: Using Python, determine if the current portfolio has enough to create an emergency fund as part of the member’s financial plan. Ideally, an emergency fund should equal to three times the member’s monthly income. To do this, implement the following steps:\n",
    "\n",
    "Step 1. Create a variable named `emergency_fund_value`, and set it equal to three times the value of the member’s `monthly_income` of 12000. (You set this earlier in Part 1).\n",
    "\n",
    "Step 2. Create a series of three if statements to determine if the member’s total portfolio is large enough to fund the emergency portfolio:\n",
    "\n",
    "* If the total portfolio value is greater than the emergency fund value, display a message congratulating the member for having enough money in this fund.\n",
    "\n",
    "* Else if the total portfolio value is equal to the emergency fund value, display a message congratulating the member on reaching this important financial goal.\n",
    "\n",
    "* Else the total portfolio is less than the emergency fund value, so display a message showing how many dollars away the member is from reaching the goal. (Subtract the total portfolio value from the emergency fund value.)\n"
   ]
  },
  {
   "cell_type": "markdown",
   "metadata": {},
   "source": [
    "##### Step 4-1: Create a variable named `emergency_fund_value`, and set it equal to three times the value of the member’s `monthly_income` of 12000. (You set this earlier in Part 1)."
   ]
  },
  {
   "cell_type": "code",
   "execution_count": 84,
   "metadata": {},
   "outputs": [
    {
     "data": {
      "text/plain": [
       "36000"
      ]
     },
     "execution_count": 84,
     "metadata": {},
     "output_type": "execute_result"
    }
   ],
   "source": [
    "# Create a variable named emergency_fund_value\n",
    "emergency_fund_value = 3 * monthly_income"
   ]
  },
  {
   "cell_type": "markdown",
   "metadata": {},
   "source": [
    "##### Step 4-2: Create a series of three if statements to determine if the member’s total portfolio is large enough to fund the emergency portfolio:\n",
    "\n",
    "* If the total portfolio value is greater than the emergency fund value, display a message congratulating the member for having enough money in this fund.\n",
    "\n",
    "* Else if the total portfolio value is equal to the emergency fund value, display a message congratulating the member on reaching this important financial goal.\n",
    "\n",
    "* Else the total portfolio is less than the emergency fund value, so display a message showing how many dollars away the member is from reaching the goal. (Subtract the total portfolio value from the emergency fund value.)"
   ]
  },
  {
   "cell_type": "code",
   "execution_count": 52,
   "metadata": {},
   "outputs": [
    {
     "name": "stdout",
     "output_type": "stream",
     "text": [
      "Congrats! You got enough money.\n"
     ]
    }
   ],
   "source": [
    "# Evaluate the possibility of creating an emergency fund with 3 conditions:\n",
    "if total_portfolio > emergency_fund_value:\n",
    "    print(\"Congrats! You got enough money.\")\n",
    "elif total_portfolio == emergency_fund_value:\n",
    "    print(\"Congrats! You reached an important financial goal.\")\n",
    "else:\n",
    "    print(f\"Uh oh. You are {emergency_fund_value - total_portfolio} away from reaching your goal.\")\n"
   ]
  },
  {
   "cell_type": "markdown",
   "metadata": {},
   "source": [
    "## Part 2: Create a Financial Planner for Retirement"
   ]
  },
  {
   "cell_type": "markdown",
   "metadata": {},
   "source": [
    "### Create the Monte Carlo Simulation\n",
    "\n",
    "In this section, you’ll use the MCForecastTools library to create a Monte Carlo simulation for the member’s savings portfolio. To do this, complete the following steps:\n",
    "\n",
    "1. Make an API call via the Alpaca SDK to get 3 years of historical closing prices for a traditional 60/40 portfolio split: 60% stocks (SPY) and 40% bonds (AGG).\n",
    "\n",
    "2. Run a Monte Carlo simulation of 500 samples and 30 years for the 60/40 portfolio, and then plot the results.The following image shows the overlay line plot resulting from a simulation with these characteristics. However, because a random number generator is used to run each live Monte Carlo simulation, your image will differ slightly from this exact image:\n",
    "\n",
    "![A screenshot depicts the resulting plot.](Images/5-4-monte-carlo-line-plot.png)\n",
    "\n",
    "3. Plot the probability distribution of the Monte Carlo simulation. Plot the probability distribution of the Monte Carlo simulation. The following image shows the histogram plot resulting from a simulation with these characteristics. However, because a random number generator is used to run each live Monte Carlo simulation, your image will differ slightly from this exact image:\n",
    "\n",
    "![A screenshot depicts the histogram plot.](Images/5-4-monte-carlo-histogram.png)\n",
    "\n",
    "4. Generate the summary statistics for the Monte Carlo simulation.\n",
    "\n"
   ]
  },
  {
   "cell_type": "markdown",
   "metadata": {},
   "source": [
    "#### Step 1: Make an API call via the Alpaca SDK to get 3 years of historical closing prices for a traditional 60/40 portfolio split: 60% stocks (SPY) and 40% bonds (AGG)."
   ]
  },
  {
   "cell_type": "code",
   "execution_count": 53,
   "metadata": {},
   "outputs": [],
   "source": [
    "# Set start and end dates of 3 years back from your current date\n",
    "# Alternatively, you can use an end date of 2020-08-07 and work 3 years back from that date \n",
    "start_date = pd.Timestamp('09-23-2019', tz='America/New_York').isoformat()"
   ]
  },
  {
   "cell_type": "code",
   "execution_count": 54,
   "metadata": {},
   "outputs": [
    {
     "data": {
      "text/html": [
       "<div>\n",
       "<style scoped>\n",
       "    .dataframe tbody tr th:only-of-type {\n",
       "        vertical-align: middle;\n",
       "    }\n",
       "\n",
       "    .dataframe tbody tr th {\n",
       "        vertical-align: top;\n",
       "    }\n",
       "\n",
       "    .dataframe thead tr th {\n",
       "        text-align: left;\n",
       "    }\n",
       "\n",
       "    .dataframe thead tr:last-of-type th {\n",
       "        text-align: right;\n",
       "    }\n",
       "</style>\n",
       "<table border=\"1\" class=\"dataframe\">\n",
       "  <thead>\n",
       "    <tr>\n",
       "      <th></th>\n",
       "      <th colspan=\"7\" halign=\"left\">SPY</th>\n",
       "      <th colspan=\"7\" halign=\"left\">AGG</th>\n",
       "    </tr>\n",
       "    <tr>\n",
       "      <th></th>\n",
       "      <th>open</th>\n",
       "      <th>high</th>\n",
       "      <th>low</th>\n",
       "      <th>close</th>\n",
       "      <th>volume</th>\n",
       "      <th>trade_count</th>\n",
       "      <th>vwap</th>\n",
       "      <th>open</th>\n",
       "      <th>high</th>\n",
       "      <th>low</th>\n",
       "      <th>close</th>\n",
       "      <th>volume</th>\n",
       "      <th>trade_count</th>\n",
       "      <th>vwap</th>\n",
       "    </tr>\n",
       "    <tr>\n",
       "      <th>timestamp</th>\n",
       "      <th></th>\n",
       "      <th></th>\n",
       "      <th></th>\n",
       "      <th></th>\n",
       "      <th></th>\n",
       "      <th></th>\n",
       "      <th></th>\n",
       "      <th></th>\n",
       "      <th></th>\n",
       "      <th></th>\n",
       "      <th></th>\n",
       "      <th></th>\n",
       "      <th></th>\n",
       "      <th></th>\n",
       "    </tr>\n",
       "  </thead>\n",
       "  <tbody>\n",
       "    <tr>\n",
       "      <th>2019-09-23 04:00:00+00:00</th>\n",
       "      <td>297.57</td>\n",
       "      <td>299.0000</td>\n",
       "      <td>297.27</td>\n",
       "      <td>298.21</td>\n",
       "      <td>47541342</td>\n",
       "      <td>221295</td>\n",
       "      <td>298.257134</td>\n",
       "      <td>113.02</td>\n",
       "      <td>113.2400</td>\n",
       "      <td>112.940</td>\n",
       "      <td>112.97</td>\n",
       "      <td>3412384</td>\n",
       "      <td>11277</td>\n",
       "      <td>113.041895</td>\n",
       "    </tr>\n",
       "    <tr>\n",
       "      <th>2019-09-24 04:00:00+00:00</th>\n",
       "      <td>299.41</td>\n",
       "      <td>299.8400</td>\n",
       "      <td>294.81</td>\n",
       "      <td>295.87</td>\n",
       "      <td>97717924</td>\n",
       "      <td>519834</td>\n",
       "      <td>296.679211</td>\n",
       "      <td>113.03</td>\n",
       "      <td>113.3550</td>\n",
       "      <td>113.030</td>\n",
       "      <td>113.28</td>\n",
       "      <td>2602618</td>\n",
       "      <td>13029</td>\n",
       "      <td>113.194793</td>\n",
       "    </tr>\n",
       "    <tr>\n",
       "      <th>2019-09-25 04:00:00+00:00</th>\n",
       "      <td>295.94</td>\n",
       "      <td>298.1100</td>\n",
       "      <td>294.33</td>\n",
       "      <td>297.62</td>\n",
       "      <td>73434081</td>\n",
       "      <td>356047</td>\n",
       "      <td>296.713554</td>\n",
       "      <td>113.21</td>\n",
       "      <td>113.2299</td>\n",
       "      <td>112.740</td>\n",
       "      <td>112.81</td>\n",
       "      <td>3813759</td>\n",
       "      <td>14274</td>\n",
       "      <td>112.882363</td>\n",
       "    </tr>\n",
       "    <tr>\n",
       "      <th>2019-09-26 04:00:00+00:00</th>\n",
       "      <td>297.62</td>\n",
       "      <td>297.8600</td>\n",
       "      <td>295.45</td>\n",
       "      <td>297.00</td>\n",
       "      <td>58758157</td>\n",
       "      <td>329411</td>\n",
       "      <td>296.847045</td>\n",
       "      <td>113.00</td>\n",
       "      <td>113.1000</td>\n",
       "      <td>112.935</td>\n",
       "      <td>113.00</td>\n",
       "      <td>4869355</td>\n",
       "      <td>11034</td>\n",
       "      <td>113.027123</td>\n",
       "    </tr>\n",
       "    <tr>\n",
       "      <th>2019-09-27 04:00:00+00:00</th>\n",
       "      <td>297.87</td>\n",
       "      <td>297.9465</td>\n",
       "      <td>293.69</td>\n",
       "      <td>295.40</td>\n",
       "      <td>85194715</td>\n",
       "      <td>454922</td>\n",
       "      <td>295.623896</td>\n",
       "      <td>113.00</td>\n",
       "      <td>113.1650</td>\n",
       "      <td>113.000</td>\n",
       "      <td>113.14</td>\n",
       "      <td>4652474</td>\n",
       "      <td>15910</td>\n",
       "      <td>113.108829</td>\n",
       "    </tr>\n",
       "  </tbody>\n",
       "</table>\n",
       "</div>"
      ],
      "text/plain": [
       "                              SPY                                      \\\n",
       "                             open      high     low   close    volume   \n",
       "timestamp                                                               \n",
       "2019-09-23 04:00:00+00:00  297.57  299.0000  297.27  298.21  47541342   \n",
       "2019-09-24 04:00:00+00:00  299.41  299.8400  294.81  295.87  97717924   \n",
       "2019-09-25 04:00:00+00:00  295.94  298.1100  294.33  297.62  73434081   \n",
       "2019-09-26 04:00:00+00:00  297.62  297.8600  295.45  297.00  58758157   \n",
       "2019-09-27 04:00:00+00:00  297.87  297.9465  293.69  295.40  85194715   \n",
       "\n",
       "                                                      AGG                     \\\n",
       "                          trade_count        vwap    open      high      low   \n",
       "timestamp                                                                      \n",
       "2019-09-23 04:00:00+00:00      221295  298.257134  113.02  113.2400  112.940   \n",
       "2019-09-24 04:00:00+00:00      519834  296.679211  113.03  113.3550  113.030   \n",
       "2019-09-25 04:00:00+00:00      356047  296.713554  113.21  113.2299  112.740   \n",
       "2019-09-26 04:00:00+00:00      329411  296.847045  113.00  113.1000  112.935   \n",
       "2019-09-27 04:00:00+00:00      454922  295.623896  113.00  113.1650  113.000   \n",
       "\n",
       "                                                                    \n",
       "                            close   volume trade_count        vwap  \n",
       "timestamp                                                           \n",
       "2019-09-23 04:00:00+00:00  112.97  3412384       11277  113.041895  \n",
       "2019-09-24 04:00:00+00:00  113.28  2602618       13029  113.194793  \n",
       "2019-09-25 04:00:00+00:00  112.81  3813759       14274  112.882363  \n",
       "2019-09-26 04:00:00+00:00  113.00  4869355       11034  113.027123  \n",
       "2019-09-27 04:00:00+00:00  113.14  4652474       15910  113.108829  "
      ]
     },
     "metadata": {},
     "output_type": "display_data"
    },
    {
     "data": {
      "text/html": [
       "<div>\n",
       "<style scoped>\n",
       "    .dataframe tbody tr th:only-of-type {\n",
       "        vertical-align: middle;\n",
       "    }\n",
       "\n",
       "    .dataframe tbody tr th {\n",
       "        vertical-align: top;\n",
       "    }\n",
       "\n",
       "    .dataframe thead tr th {\n",
       "        text-align: left;\n",
       "    }\n",
       "\n",
       "    .dataframe thead tr:last-of-type th {\n",
       "        text-align: right;\n",
       "    }\n",
       "</style>\n",
       "<table border=\"1\" class=\"dataframe\">\n",
       "  <thead>\n",
       "    <tr>\n",
       "      <th></th>\n",
       "      <th colspan=\"7\" halign=\"left\">SPY</th>\n",
       "      <th colspan=\"7\" halign=\"left\">AGG</th>\n",
       "    </tr>\n",
       "    <tr>\n",
       "      <th></th>\n",
       "      <th>open</th>\n",
       "      <th>high</th>\n",
       "      <th>low</th>\n",
       "      <th>close</th>\n",
       "      <th>volume</th>\n",
       "      <th>trade_count</th>\n",
       "      <th>vwap</th>\n",
       "      <th>open</th>\n",
       "      <th>high</th>\n",
       "      <th>low</th>\n",
       "      <th>close</th>\n",
       "      <th>volume</th>\n",
       "      <th>trade_count</th>\n",
       "      <th>vwap</th>\n",
       "    </tr>\n",
       "    <tr>\n",
       "      <th>timestamp</th>\n",
       "      <th></th>\n",
       "      <th></th>\n",
       "      <th></th>\n",
       "      <th></th>\n",
       "      <th></th>\n",
       "      <th></th>\n",
       "      <th></th>\n",
       "      <th></th>\n",
       "      <th></th>\n",
       "      <th></th>\n",
       "      <th></th>\n",
       "      <th></th>\n",
       "      <th></th>\n",
       "      <th></th>\n",
       "    </tr>\n",
       "  </thead>\n",
       "  <tbody>\n",
       "    <tr>\n",
       "      <th>2022-09-20 04:00:00+00:00</th>\n",
       "      <td>385.10</td>\n",
       "      <td>386.12</td>\n",
       "      <td>381.1950</td>\n",
       "      <td>384.09</td>\n",
       "      <td>76685764</td>\n",
       "      <td>555454</td>\n",
       "      <td>384.152364</td>\n",
       "      <td>98.20</td>\n",
       "      <td>98.4000</td>\n",
       "      <td>98.0800</td>\n",
       "      <td>98.24</td>\n",
       "      <td>11210119</td>\n",
       "      <td>22324</td>\n",
       "      <td>98.237305</td>\n",
       "    </tr>\n",
       "    <tr>\n",
       "      <th>2022-09-21 04:00:00+00:00</th>\n",
       "      <td>386.06</td>\n",
       "      <td>389.31</td>\n",
       "      <td>377.3800</td>\n",
       "      <td>377.45</td>\n",
       "      <td>104302139</td>\n",
       "      <td>807310</td>\n",
       "      <td>383.197346</td>\n",
       "      <td>98.40</td>\n",
       "      <td>98.6001</td>\n",
       "      <td>97.8600</td>\n",
       "      <td>98.55</td>\n",
       "      <td>6674502</td>\n",
       "      <td>32613</td>\n",
       "      <td>98.321112</td>\n",
       "    </tr>\n",
       "    <tr>\n",
       "      <th>2022-09-22 04:00:00+00:00</th>\n",
       "      <td>376.50</td>\n",
       "      <td>378.30</td>\n",
       "      <td>373.4400</td>\n",
       "      <td>374.22</td>\n",
       "      <td>88922900</td>\n",
       "      <td>630401</td>\n",
       "      <td>375.330794</td>\n",
       "      <td>97.90</td>\n",
       "      <td>97.9200</td>\n",
       "      <td>97.4039</td>\n",
       "      <td>97.50</td>\n",
       "      <td>7092118</td>\n",
       "      <td>25072</td>\n",
       "      <td>97.595666</td>\n",
       "    </tr>\n",
       "    <tr>\n",
       "      <th>2022-09-23 04:00:00+00:00</th>\n",
       "      <td>370.58</td>\n",
       "      <td>370.62</td>\n",
       "      <td>363.2900</td>\n",
       "      <td>367.95</td>\n",
       "      <td>121574096</td>\n",
       "      <td>838774</td>\n",
       "      <td>367.579806</td>\n",
       "      <td>97.40</td>\n",
       "      <td>97.4500</td>\n",
       "      <td>96.8900</td>\n",
       "      <td>97.20</td>\n",
       "      <td>11053650</td>\n",
       "      <td>41351</td>\n",
       "      <td>97.135798</td>\n",
       "    </tr>\n",
       "    <tr>\n",
       "      <th>2022-09-26 04:00:00+00:00</th>\n",
       "      <td>366.41</td>\n",
       "      <td>370.21</td>\n",
       "      <td>363.0299</td>\n",
       "      <td>364.31</td>\n",
       "      <td>91679069</td>\n",
       "      <td>630216</td>\n",
       "      <td>365.932638</td>\n",
       "      <td>96.87</td>\n",
       "      <td>96.9100</td>\n",
       "      <td>95.8650</td>\n",
       "      <td>95.95</td>\n",
       "      <td>8467458</td>\n",
       "      <td>32084</td>\n",
       "      <td>96.272692</td>\n",
       "    </tr>\n",
       "  </tbody>\n",
       "</table>\n",
       "</div>"
      ],
      "text/plain": [
       "                              SPY                                       \\\n",
       "                             open    high       low   close     volume   \n",
       "timestamp                                                                \n",
       "2022-09-20 04:00:00+00:00  385.10  386.12  381.1950  384.09   76685764   \n",
       "2022-09-21 04:00:00+00:00  386.06  389.31  377.3800  377.45  104302139   \n",
       "2022-09-22 04:00:00+00:00  376.50  378.30  373.4400  374.22   88922900   \n",
       "2022-09-23 04:00:00+00:00  370.58  370.62  363.2900  367.95  121574096   \n",
       "2022-09-26 04:00:00+00:00  366.41  370.21  363.0299  364.31   91679069   \n",
       "\n",
       "                                                     AGG                    \\\n",
       "                          trade_count        vwap   open     high      low   \n",
       "timestamp                                                                    \n",
       "2022-09-20 04:00:00+00:00      555454  384.152364  98.20  98.4000  98.0800   \n",
       "2022-09-21 04:00:00+00:00      807310  383.197346  98.40  98.6001  97.8600   \n",
       "2022-09-22 04:00:00+00:00      630401  375.330794  97.90  97.9200  97.4039   \n",
       "2022-09-23 04:00:00+00:00      838774  367.579806  97.40  97.4500  96.8900   \n",
       "2022-09-26 04:00:00+00:00      630216  365.932638  96.87  96.9100  95.8650   \n",
       "\n",
       "                                                                   \n",
       "                           close    volume trade_count       vwap  \n",
       "timestamp                                                          \n",
       "2022-09-20 04:00:00+00:00  98.24  11210119       22324  98.237305  \n",
       "2022-09-21 04:00:00+00:00  98.55   6674502       32613  98.321112  \n",
       "2022-09-22 04:00:00+00:00  97.50   7092118       25072  97.595666  \n",
       "2022-09-23 04:00:00+00:00  97.20  11053650       41351  97.135798  \n",
       "2022-09-26 04:00:00+00:00  95.95   8467458       32084  96.272692  "
      ]
     },
     "metadata": {},
     "output_type": "display_data"
    }
   ],
   "source": [
    "# Use the Alpaca get_bars function to make the API call to get the 3 years worth of pricing data\n",
    "# The tickers and timeframe parameters should have been set in Part 1 of this activity \n",
    "# The start and end dates should be updated with the information set above\n",
    "# Remember to add the df property to the end of the call so the response is returned as a DataFrame\n",
    "prices_df = alpaca.get_bars(\n",
    "    tickers,\n",
    "    timeframe,\n",
    "    start=start_date).df\n",
    "\n",
    "# Reorganize the DataFrame\n",
    "# Separate ticker data\n",
    "SPY = prices_df[prices_df['symbol'] == 'SPY'].drop('symbol', axis=1)\n",
    "AGG = prices_df[prices_df['symbol'] == 'AGG'].drop('symbol', axis=1)\n",
    "\n",
    "# Concatenate the ticker DataFrames\n",
    "prices_df = pd.concat([SPY, AGG], axis=1, keys=['SPY', 'AGG'])\n",
    "\n",
    "# Display both the first and last five rows of the DataFrame\n",
    "display(prices_df.head())\n",
    "display(prices_df.tail())\n"
   ]
  },
  {
   "cell_type": "markdown",
   "metadata": {},
   "source": [
    "#### Step 2: Run a Monte Carlo simulation of 500 samples and 30 years for the 60/40 portfolio, and then plot the results."
   ]
  },
  {
   "cell_type": "code",
   "execution_count": 55,
   "metadata": {},
   "outputs": [
    {
     "data": {
      "text/html": [
       "<div>\n",
       "<style scoped>\n",
       "    .dataframe tbody tr th:only-of-type {\n",
       "        vertical-align: middle;\n",
       "    }\n",
       "\n",
       "    .dataframe tbody tr th {\n",
       "        vertical-align: top;\n",
       "    }\n",
       "\n",
       "    .dataframe thead tr th {\n",
       "        text-align: left;\n",
       "    }\n",
       "\n",
       "    .dataframe thead tr:last-of-type th {\n",
       "        text-align: right;\n",
       "    }\n",
       "</style>\n",
       "<table border=\"1\" class=\"dataframe\">\n",
       "  <thead>\n",
       "    <tr>\n",
       "      <th></th>\n",
       "      <th colspan=\"8\" halign=\"left\">SPY</th>\n",
       "      <th colspan=\"8\" halign=\"left\">AGG</th>\n",
       "    </tr>\n",
       "    <tr>\n",
       "      <th></th>\n",
       "      <th>open</th>\n",
       "      <th>high</th>\n",
       "      <th>low</th>\n",
       "      <th>close</th>\n",
       "      <th>volume</th>\n",
       "      <th>trade_count</th>\n",
       "      <th>vwap</th>\n",
       "      <th>daily_return</th>\n",
       "      <th>open</th>\n",
       "      <th>high</th>\n",
       "      <th>low</th>\n",
       "      <th>close</th>\n",
       "      <th>volume</th>\n",
       "      <th>trade_count</th>\n",
       "      <th>vwap</th>\n",
       "      <th>daily_return</th>\n",
       "    </tr>\n",
       "    <tr>\n",
       "      <th>timestamp</th>\n",
       "      <th></th>\n",
       "      <th></th>\n",
       "      <th></th>\n",
       "      <th></th>\n",
       "      <th></th>\n",
       "      <th></th>\n",
       "      <th></th>\n",
       "      <th></th>\n",
       "      <th></th>\n",
       "      <th></th>\n",
       "      <th></th>\n",
       "      <th></th>\n",
       "      <th></th>\n",
       "      <th></th>\n",
       "      <th></th>\n",
       "      <th></th>\n",
       "    </tr>\n",
       "  </thead>\n",
       "  <tbody>\n",
       "    <tr>\n",
       "      <th>2019-09-23 04:00:00+00:00</th>\n",
       "      <td>297.57</td>\n",
       "      <td>299.0000</td>\n",
       "      <td>297.2700</td>\n",
       "      <td>298.21</td>\n",
       "      <td>47541342</td>\n",
       "      <td>221295</td>\n",
       "      <td>298.257134</td>\n",
       "      <td>NaN</td>\n",
       "      <td>113.02</td>\n",
       "      <td>113.2400</td>\n",
       "      <td>112.9400</td>\n",
       "      <td>112.97</td>\n",
       "      <td>3412384</td>\n",
       "      <td>11277</td>\n",
       "      <td>113.041895</td>\n",
       "      <td>NaN</td>\n",
       "    </tr>\n",
       "    <tr>\n",
       "      <th>2019-09-24 04:00:00+00:00</th>\n",
       "      <td>299.41</td>\n",
       "      <td>299.8400</td>\n",
       "      <td>294.8100</td>\n",
       "      <td>295.87</td>\n",
       "      <td>97717924</td>\n",
       "      <td>519834</td>\n",
       "      <td>296.679211</td>\n",
       "      <td>-0.007847</td>\n",
       "      <td>113.03</td>\n",
       "      <td>113.3550</td>\n",
       "      <td>113.0300</td>\n",
       "      <td>113.28</td>\n",
       "      <td>2602618</td>\n",
       "      <td>13029</td>\n",
       "      <td>113.194793</td>\n",
       "      <td>0.002744</td>\n",
       "    </tr>\n",
       "    <tr>\n",
       "      <th>2019-09-25 04:00:00+00:00</th>\n",
       "      <td>295.94</td>\n",
       "      <td>298.1100</td>\n",
       "      <td>294.3300</td>\n",
       "      <td>297.62</td>\n",
       "      <td>73434081</td>\n",
       "      <td>356047</td>\n",
       "      <td>296.713554</td>\n",
       "      <td>0.005915</td>\n",
       "      <td>113.21</td>\n",
       "      <td>113.2299</td>\n",
       "      <td>112.7400</td>\n",
       "      <td>112.81</td>\n",
       "      <td>3813759</td>\n",
       "      <td>14274</td>\n",
       "      <td>112.882363</td>\n",
       "      <td>-0.004149</td>\n",
       "    </tr>\n",
       "    <tr>\n",
       "      <th>2019-09-26 04:00:00+00:00</th>\n",
       "      <td>297.62</td>\n",
       "      <td>297.8600</td>\n",
       "      <td>295.4500</td>\n",
       "      <td>297.00</td>\n",
       "      <td>58758157</td>\n",
       "      <td>329411</td>\n",
       "      <td>296.847045</td>\n",
       "      <td>-0.002083</td>\n",
       "      <td>113.00</td>\n",
       "      <td>113.1000</td>\n",
       "      <td>112.9350</td>\n",
       "      <td>113.00</td>\n",
       "      <td>4869355</td>\n",
       "      <td>11034</td>\n",
       "      <td>113.027123</td>\n",
       "      <td>0.001684</td>\n",
       "    </tr>\n",
       "    <tr>\n",
       "      <th>2019-09-27 04:00:00+00:00</th>\n",
       "      <td>297.87</td>\n",
       "      <td>297.9465</td>\n",
       "      <td>293.6900</td>\n",
       "      <td>295.40</td>\n",
       "      <td>85194715</td>\n",
       "      <td>454922</td>\n",
       "      <td>295.623896</td>\n",
       "      <td>-0.005387</td>\n",
       "      <td>113.00</td>\n",
       "      <td>113.1650</td>\n",
       "      <td>113.0000</td>\n",
       "      <td>113.14</td>\n",
       "      <td>4652474</td>\n",
       "      <td>15910</td>\n",
       "      <td>113.108829</td>\n",
       "      <td>0.001239</td>\n",
       "    </tr>\n",
       "    <tr>\n",
       "      <th>...</th>\n",
       "      <td>...</td>\n",
       "      <td>...</td>\n",
       "      <td>...</td>\n",
       "      <td>...</td>\n",
       "      <td>...</td>\n",
       "      <td>...</td>\n",
       "      <td>...</td>\n",
       "      <td>...</td>\n",
       "      <td>...</td>\n",
       "      <td>...</td>\n",
       "      <td>...</td>\n",
       "      <td>...</td>\n",
       "      <td>...</td>\n",
       "      <td>...</td>\n",
       "      <td>...</td>\n",
       "      <td>...</td>\n",
       "    </tr>\n",
       "    <tr>\n",
       "      <th>2022-09-20 04:00:00+00:00</th>\n",
       "      <td>385.10</td>\n",
       "      <td>386.1200</td>\n",
       "      <td>381.1950</td>\n",
       "      <td>384.09</td>\n",
       "      <td>76685764</td>\n",
       "      <td>555454</td>\n",
       "      <td>384.152364</td>\n",
       "      <td>-0.011479</td>\n",
       "      <td>98.20</td>\n",
       "      <td>98.4000</td>\n",
       "      <td>98.0800</td>\n",
       "      <td>98.24</td>\n",
       "      <td>11210119</td>\n",
       "      <td>22324</td>\n",
       "      <td>98.237305</td>\n",
       "      <td>-0.004459</td>\n",
       "    </tr>\n",
       "    <tr>\n",
       "      <th>2022-09-21 04:00:00+00:00</th>\n",
       "      <td>386.06</td>\n",
       "      <td>389.3100</td>\n",
       "      <td>377.3800</td>\n",
       "      <td>377.45</td>\n",
       "      <td>104302139</td>\n",
       "      <td>807310</td>\n",
       "      <td>383.197346</td>\n",
       "      <td>-0.017288</td>\n",
       "      <td>98.40</td>\n",
       "      <td>98.6001</td>\n",
       "      <td>97.8600</td>\n",
       "      <td>98.55</td>\n",
       "      <td>6674502</td>\n",
       "      <td>32613</td>\n",
       "      <td>98.321112</td>\n",
       "      <td>0.003156</td>\n",
       "    </tr>\n",
       "    <tr>\n",
       "      <th>2022-09-22 04:00:00+00:00</th>\n",
       "      <td>376.50</td>\n",
       "      <td>378.3000</td>\n",
       "      <td>373.4400</td>\n",
       "      <td>374.22</td>\n",
       "      <td>88922900</td>\n",
       "      <td>630401</td>\n",
       "      <td>375.330794</td>\n",
       "      <td>-0.008557</td>\n",
       "      <td>97.90</td>\n",
       "      <td>97.9200</td>\n",
       "      <td>97.4039</td>\n",
       "      <td>97.50</td>\n",
       "      <td>7092118</td>\n",
       "      <td>25072</td>\n",
       "      <td>97.595666</td>\n",
       "      <td>-0.010654</td>\n",
       "    </tr>\n",
       "    <tr>\n",
       "      <th>2022-09-23 04:00:00+00:00</th>\n",
       "      <td>370.58</td>\n",
       "      <td>370.6200</td>\n",
       "      <td>363.2900</td>\n",
       "      <td>367.95</td>\n",
       "      <td>121574096</td>\n",
       "      <td>838774</td>\n",
       "      <td>367.579806</td>\n",
       "      <td>-0.016755</td>\n",
       "      <td>97.40</td>\n",
       "      <td>97.4500</td>\n",
       "      <td>96.8900</td>\n",
       "      <td>97.20</td>\n",
       "      <td>11053650</td>\n",
       "      <td>41351</td>\n",
       "      <td>97.135798</td>\n",
       "      <td>-0.003077</td>\n",
       "    </tr>\n",
       "    <tr>\n",
       "      <th>2022-09-26 04:00:00+00:00</th>\n",
       "      <td>366.41</td>\n",
       "      <td>370.2100</td>\n",
       "      <td>363.0299</td>\n",
       "      <td>364.31</td>\n",
       "      <td>91679069</td>\n",
       "      <td>630216</td>\n",
       "      <td>365.932638</td>\n",
       "      <td>-0.009893</td>\n",
       "      <td>96.87</td>\n",
       "      <td>96.9100</td>\n",
       "      <td>95.8650</td>\n",
       "      <td>95.95</td>\n",
       "      <td>8467458</td>\n",
       "      <td>32084</td>\n",
       "      <td>96.272692</td>\n",
       "      <td>-0.012860</td>\n",
       "    </tr>\n",
       "  </tbody>\n",
       "</table>\n",
       "<p>759 rows × 16 columns</p>\n",
       "</div>"
      ],
      "text/plain": [
       "                              SPY                                         \\\n",
       "                             open      high       low   close     volume   \n",
       "timestamp                                                                  \n",
       "2019-09-23 04:00:00+00:00  297.57  299.0000  297.2700  298.21   47541342   \n",
       "2019-09-24 04:00:00+00:00  299.41  299.8400  294.8100  295.87   97717924   \n",
       "2019-09-25 04:00:00+00:00  295.94  298.1100  294.3300  297.62   73434081   \n",
       "2019-09-26 04:00:00+00:00  297.62  297.8600  295.4500  297.00   58758157   \n",
       "2019-09-27 04:00:00+00:00  297.87  297.9465  293.6900  295.40   85194715   \n",
       "...                           ...       ...       ...     ...        ...   \n",
       "2022-09-20 04:00:00+00:00  385.10  386.1200  381.1950  384.09   76685764   \n",
       "2022-09-21 04:00:00+00:00  386.06  389.3100  377.3800  377.45  104302139   \n",
       "2022-09-22 04:00:00+00:00  376.50  378.3000  373.4400  374.22   88922900   \n",
       "2022-09-23 04:00:00+00:00  370.58  370.6200  363.2900  367.95  121574096   \n",
       "2022-09-26 04:00:00+00:00  366.41  370.2100  363.0299  364.31   91679069   \n",
       "\n",
       "                                                                   AGG  \\\n",
       "                          trade_count        vwap daily_return    open   \n",
       "timestamp                                                                \n",
       "2019-09-23 04:00:00+00:00      221295  298.257134          NaN  113.02   \n",
       "2019-09-24 04:00:00+00:00      519834  296.679211    -0.007847  113.03   \n",
       "2019-09-25 04:00:00+00:00      356047  296.713554     0.005915  113.21   \n",
       "2019-09-26 04:00:00+00:00      329411  296.847045    -0.002083  113.00   \n",
       "2019-09-27 04:00:00+00:00      454922  295.623896    -0.005387  113.00   \n",
       "...                               ...         ...          ...     ...   \n",
       "2022-09-20 04:00:00+00:00      555454  384.152364    -0.011479   98.20   \n",
       "2022-09-21 04:00:00+00:00      807310  383.197346    -0.017288   98.40   \n",
       "2022-09-22 04:00:00+00:00      630401  375.330794    -0.008557   97.90   \n",
       "2022-09-23 04:00:00+00:00      838774  367.579806    -0.016755   97.40   \n",
       "2022-09-26 04:00:00+00:00      630216  365.932638    -0.009893   96.87   \n",
       "\n",
       "                                                                             \\\n",
       "                               high       low   close    volume trade_count   \n",
       "timestamp                                                                     \n",
       "2019-09-23 04:00:00+00:00  113.2400  112.9400  112.97   3412384       11277   \n",
       "2019-09-24 04:00:00+00:00  113.3550  113.0300  113.28   2602618       13029   \n",
       "2019-09-25 04:00:00+00:00  113.2299  112.7400  112.81   3813759       14274   \n",
       "2019-09-26 04:00:00+00:00  113.1000  112.9350  113.00   4869355       11034   \n",
       "2019-09-27 04:00:00+00:00  113.1650  113.0000  113.14   4652474       15910   \n",
       "...                             ...       ...     ...       ...         ...   \n",
       "2022-09-20 04:00:00+00:00   98.4000   98.0800   98.24  11210119       22324   \n",
       "2022-09-21 04:00:00+00:00   98.6001   97.8600   98.55   6674502       32613   \n",
       "2022-09-22 04:00:00+00:00   97.9200   97.4039   97.50   7092118       25072   \n",
       "2022-09-23 04:00:00+00:00   97.4500   96.8900   97.20  11053650       41351   \n",
       "2022-09-26 04:00:00+00:00   96.9100   95.8650   95.95   8467458       32084   \n",
       "\n",
       "                                                    \n",
       "                                 vwap daily_return  \n",
       "timestamp                                           \n",
       "2019-09-23 04:00:00+00:00  113.041895          NaN  \n",
       "2019-09-24 04:00:00+00:00  113.194793     0.002744  \n",
       "2019-09-25 04:00:00+00:00  112.882363    -0.004149  \n",
       "2019-09-26 04:00:00+00:00  113.027123     0.001684  \n",
       "2019-09-27 04:00:00+00:00  113.108829     0.001239  \n",
       "...                               ...          ...  \n",
       "2022-09-20 04:00:00+00:00   98.237305    -0.004459  \n",
       "2022-09-21 04:00:00+00:00   98.321112     0.003156  \n",
       "2022-09-22 04:00:00+00:00   97.595666    -0.010654  \n",
       "2022-09-23 04:00:00+00:00   97.135798    -0.003077  \n",
       "2022-09-26 04:00:00+00:00   96.272692    -0.012860  \n",
       "\n",
       "[759 rows x 16 columns]"
      ]
     },
     "execution_count": 55,
     "metadata": {},
     "output_type": "execute_result"
    }
   ],
   "source": [
    "# Configure the Monte Carlo simulation to forecast 30 years cumulative returns\n",
    "# The weights should be split 40% to AGG and 60% to SPY.\n",
    "# Run 500 samples.\n",
    "MC = MCSimulation(\n",
    "    prices_df,\n",
    "    weights=[.6, .4],\n",
    "    num_simulation=500,\n",
    "    num_trading_days=30*252)\n",
    "\n",
    "# Review the simulation input data\n",
    "MC.portfolio_data\n"
   ]
  },
  {
   "cell_type": "code",
   "execution_count": 56,
   "metadata": {},
   "outputs": [
    {
     "name": "stdout",
     "output_type": "stream",
     "text": [
      "Running Monte Carlo simulation number 0.\n",
      "Running Monte Carlo simulation number 10.\n",
      "Running Monte Carlo simulation number 20.\n",
      "Running Monte Carlo simulation number 30.\n",
      "Running Monte Carlo simulation number 40.\n",
      "Running Monte Carlo simulation number 50.\n",
      "Running Monte Carlo simulation number 60.\n",
      "Running Monte Carlo simulation number 70.\n",
      "Running Monte Carlo simulation number 80.\n",
      "Running Monte Carlo simulation number 90.\n",
      "Running Monte Carlo simulation number 100.\n"
     ]
    },
    {
     "name": "stderr",
     "output_type": "stream",
     "text": [
      "/Users/andrewisrael/Desktop/Columbia FinTech Bootcamp/Challenges/5-Challenge/MCForecastTools.py:117: PerformanceWarning: DataFrame is highly fragmented.  This is usually the result of calling `frame.insert` many times, which has poor performance.  Consider joining all columns at once using pd.concat(axis=1) instead.  To get a de-fragmented frame, use `newframe = frame.copy()`\n",
      "  portfolio_cumulative_returns[n] = (1 + sim_df.fillna(0)).cumprod()\n"
     ]
    },
    {
     "name": "stdout",
     "output_type": "stream",
     "text": [
      "Running Monte Carlo simulation number 110.\n",
      "Running Monte Carlo simulation number 120.\n",
      "Running Monte Carlo simulation number 130.\n",
      "Running Monte Carlo simulation number 140.\n",
      "Running Monte Carlo simulation number 150.\n",
      "Running Monte Carlo simulation number 160.\n",
      "Running Monte Carlo simulation number 170.\n",
      "Running Monte Carlo simulation number 180.\n",
      "Running Monte Carlo simulation number 190.\n",
      "Running Monte Carlo simulation number 200.\n",
      "Running Monte Carlo simulation number 210.\n",
      "Running Monte Carlo simulation number 220.\n",
      "Running Monte Carlo simulation number 230.\n",
      "Running Monte Carlo simulation number 240.\n",
      "Running Monte Carlo simulation number 250.\n",
      "Running Monte Carlo simulation number 260.\n",
      "Running Monte Carlo simulation number 270.\n",
      "Running Monte Carlo simulation number 280.\n",
      "Running Monte Carlo simulation number 290.\n",
      "Running Monte Carlo simulation number 300.\n",
      "Running Monte Carlo simulation number 310.\n",
      "Running Monte Carlo simulation number 320.\n",
      "Running Monte Carlo simulation number 330.\n",
      "Running Monte Carlo simulation number 340.\n",
      "Running Monte Carlo simulation number 350.\n",
      "Running Monte Carlo simulation number 360.\n",
      "Running Monte Carlo simulation number 370.\n",
      "Running Monte Carlo simulation number 380.\n",
      "Running Monte Carlo simulation number 390.\n",
      "Running Monte Carlo simulation number 400.\n",
      "Running Monte Carlo simulation number 410.\n",
      "Running Monte Carlo simulation number 420.\n",
      "Running Monte Carlo simulation number 430.\n",
      "Running Monte Carlo simulation number 440.\n",
      "Running Monte Carlo simulation number 450.\n",
      "Running Monte Carlo simulation number 460.\n",
      "Running Monte Carlo simulation number 470.\n",
      "Running Monte Carlo simulation number 480.\n",
      "Running Monte Carlo simulation number 490.\n"
     ]
    }
   ],
   "source": [
    "# Run the Monte Carlo simulation to forecast 30 years cumulative returns\n",
    "MC.calc_cumulative_return()\n"
   ]
  },
  {
   "cell_type": "code",
   "execution_count": 57,
   "metadata": {},
   "outputs": [
    {
     "data": {
      "image/png": "[encoded data removed]",
      "text/plain": [
       "<Figure size 432x288 with 1 Axes>"
      ]
     },
     "metadata": {
      "needs_background": "light"
     },
     "output_type": "display_data"
    }
   ],
   "source": [
    "# Visualize the 30-year Monte Carlo simulation by creating an\n",
    "# overlay line plot\n",
    "MC_sim_line_plot = MC.plot_simulation()\n"
   ]
  },
  {
   "cell_type": "markdown",
   "metadata": {},
   "source": [
    "#### Step 3: Plot the probability distribution of the Monte Carlo simulation."
   ]
  },
  {
   "cell_type": "code",
   "execution_count": 58,
   "metadata": {},
   "outputs": [
    {
     "data": {
      "image/png": "[encoded data removed]",
      "text/plain": [
       "<Figure size 432x288 with 1 Axes>"
      ]
     },
     "metadata": {
      "needs_background": "light"
     },
     "output_type": "display_data"
    }
   ],
   "source": [
    "# Visualize the probability distribution of the 30-year Monte Carlo simulation \n",
    "# by plotting a histogram\n",
    "MC_sim_dist_plot = MC.plot_distribution()\n"
   ]
  },
  {
   "cell_type": "markdown",
   "metadata": {},
   "source": [
    "#### Step 4: Generate the summary statistics for the Monte Carlo simulation."
   ]
  },
  {
   "cell_type": "code",
   "execution_count": 60,
   "metadata": {},
   "outputs": [
    {
     "data": {
      "text/plain": [
       "count           500.000000\n",
       "mean              3.093387\n",
       "std               2.924972\n",
       "min               0.227047\n",
       "25%               1.276469\n",
       "50%               2.145435\n",
       "75%               3.863419\n",
       "max              23.008947\n",
       "95% CI Lower      0.472130\n",
       "95% CI Upper     10.893868\n",
       "Name: 7560, dtype: float64"
      ]
     },
     "execution_count": 60,
     "metadata": {},
     "output_type": "execute_result"
    }
   ],
   "source": [
    "# Generate summary statistics from the 30-year Monte Carlo simulation results\n",
    "# Save the results as a variable\n",
    "summary_stats = MC.summarize_cumulative_return()\n",
    "\n",
    "\n",
    "# Review the 30-year Monte Carlo summary statistics\n",
    "summary_stats"
   ]
  },
  {
   "cell_type": "markdown",
   "metadata": {},
   "source": [
    "### Analyze the Retirement Portfolio Forecasts\n",
    "\n",
    "Using the current value of only the stock and bond portion of the member's portfolio and the summary statistics that you generated from the Monte Carlo simulation, answer the following question in your Jupyter notebook:\n",
    "\n",
    "-  What are the lower and upper bounds for the expected value of the portfolio with a 95% confidence interval?\n"
   ]
  },
  {
   "cell_type": "code",
   "execution_count": 77,
   "metadata": {},
   "outputs": [
    {
     "name": "stdout",
     "output_type": "stream",
     "text": [
      "Current balance of stock/bond portfolio: $59914.5\n"
     ]
    }
   ],
   "source": [
    "# Print the current balance of the stock and bond portion of the members portfolio\n",
    "print(f\"Current balance of stock/bond portfolio: ${total_stocks_bonds}\")\n"
   ]
  },
  {
   "cell_type": "code",
   "execution_count": 78,
   "metadata": {},
   "outputs": [
    {
     "name": "stdout",
     "output_type": "stream",
     "text": [
      "95% Confidence Interval for 30Y outcomes of stock/bond portfolio: ($28287.42, $652700.64)\n"
     ]
    }
   ],
   "source": [
    "# Use the lower and upper `95%` confidence intervals to calculate the range of the possible outcomes for the current stock/bond portfolio\n",
    "ci_lower_thirty_cumulative_return = summary_stats[8]\n",
    "ci_upper_thirty_cumulative_return = summary_stats[9]\n",
    "\n",
    "# Print the result of your calculations\n",
    "print(f\"95% Confidence Interval for 30Y outcomes of stock/bond portfolio: (${total_stocks_bonds*ci_lower_thirty_cumulative_return:.2f}, ${total_stocks_bonds*ci_upper_thirty_cumulative_return:.2f})\")\n"
   ]
  },
  {
   "cell_type": "markdown",
   "metadata": {},
   "source": [
    "### Forecast Cumulative Returns in 10 Years\n",
    "\n",
    "The CTO of the credit union is impressed with your work on these planning tools but wonders if 30 years is a long time to wait until retirement. So, your next task is to adjust the retirement portfolio and run a new Monte Carlo simulation to find out if the changes will allow members to retire earlier.\n",
    "\n",
    "For this new Monte Carlo simulation, do the following: \n",
    "\n",
    "- Forecast the cumulative returns for 10 years from now. Because of the shortened investment horizon (30 years to 10 years), the portfolio needs to invest more heavily in the riskier asset&mdash;that is, stock&mdash;to help accumulate wealth for retirement. \n",
    "\n",
    "- Adjust the weights of the retirement portfolio so that the composition for the Monte Carlo simulation consists of 20% bonds and 80% stocks. \n",
    "\n",
    "- Run the simulation over 500 samples, and use the same data that the API call to Alpaca generated.\n",
    "\n",
    "- Based on the new Monte Carlo simulation, answer the following questions in your Jupyter notebook:\n",
    "\n",
    "    - Using the current value of only the stock and bond portion of the member's portfolio and the summary statistics that you generated from the new Monte Carlo simulation, what are the lower and upper bounds for the expected value of the portfolio (with the new weights) with a 95% confidence interval?\n",
    "\n",
    "    - Will weighting the portfolio more heavily toward stocks allow the credit union members to retire after only 10 years?\n"
   ]
  },
  {
   "cell_type": "code",
   "execution_count": 69,
   "metadata": {},
   "outputs": [
    {
     "data": {
      "text/html": [
       "<div>\n",
       "<style scoped>\n",
       "    .dataframe tbody tr th:only-of-type {\n",
       "        vertical-align: middle;\n",
       "    }\n",
       "\n",
       "    .dataframe tbody tr th {\n",
       "        vertical-align: top;\n",
       "    }\n",
       "\n",
       "    .dataframe thead tr th {\n",
       "        text-align: left;\n",
       "    }\n",
       "\n",
       "    .dataframe thead tr:last-of-type th {\n",
       "        text-align: right;\n",
       "    }\n",
       "</style>\n",
       "<table border=\"1\" class=\"dataframe\">\n",
       "  <thead>\n",
       "    <tr>\n",
       "      <th></th>\n",
       "      <th colspan=\"8\" halign=\"left\">SPY</th>\n",
       "      <th colspan=\"8\" halign=\"left\">AGG</th>\n",
       "    </tr>\n",
       "    <tr>\n",
       "      <th></th>\n",
       "      <th>open</th>\n",
       "      <th>high</th>\n",
       "      <th>low</th>\n",
       "      <th>close</th>\n",
       "      <th>volume</th>\n",
       "      <th>trade_count</th>\n",
       "      <th>vwap</th>\n",
       "      <th>daily_return</th>\n",
       "      <th>open</th>\n",
       "      <th>high</th>\n",
       "      <th>low</th>\n",
       "      <th>close</th>\n",
       "      <th>volume</th>\n",
       "      <th>trade_count</th>\n",
       "      <th>vwap</th>\n",
       "      <th>daily_return</th>\n",
       "    </tr>\n",
       "    <tr>\n",
       "      <th>timestamp</th>\n",
       "      <th></th>\n",
       "      <th></th>\n",
       "      <th></th>\n",
       "      <th></th>\n",
       "      <th></th>\n",
       "      <th></th>\n",
       "      <th></th>\n",
       "      <th></th>\n",
       "      <th></th>\n",
       "      <th></th>\n",
       "      <th></th>\n",
       "      <th></th>\n",
       "      <th></th>\n",
       "      <th></th>\n",
       "      <th></th>\n",
       "      <th></th>\n",
       "    </tr>\n",
       "  </thead>\n",
       "  <tbody>\n",
       "    <tr>\n",
       "      <th>2019-09-23 04:00:00+00:00</th>\n",
       "      <td>297.57</td>\n",
       "      <td>299.0000</td>\n",
       "      <td>297.2700</td>\n",
       "      <td>298.21</td>\n",
       "      <td>47541342</td>\n",
       "      <td>221295</td>\n",
       "      <td>298.257134</td>\n",
       "      <td>NaN</td>\n",
       "      <td>113.02</td>\n",
       "      <td>113.2400</td>\n",
       "      <td>112.9400</td>\n",
       "      <td>112.97</td>\n",
       "      <td>3412384</td>\n",
       "      <td>11277</td>\n",
       "      <td>113.041895</td>\n",
       "      <td>NaN</td>\n",
       "    </tr>\n",
       "    <tr>\n",
       "      <th>2019-09-24 04:00:00+00:00</th>\n",
       "      <td>299.41</td>\n",
       "      <td>299.8400</td>\n",
       "      <td>294.8100</td>\n",
       "      <td>295.87</td>\n",
       "      <td>97717924</td>\n",
       "      <td>519834</td>\n",
       "      <td>296.679211</td>\n",
       "      <td>-0.007847</td>\n",
       "      <td>113.03</td>\n",
       "      <td>113.3550</td>\n",
       "      <td>113.0300</td>\n",
       "      <td>113.28</td>\n",
       "      <td>2602618</td>\n",
       "      <td>13029</td>\n",
       "      <td>113.194793</td>\n",
       "      <td>0.002744</td>\n",
       "    </tr>\n",
       "    <tr>\n",
       "      <th>2019-09-25 04:00:00+00:00</th>\n",
       "      <td>295.94</td>\n",
       "      <td>298.1100</td>\n",
       "      <td>294.3300</td>\n",
       "      <td>297.62</td>\n",
       "      <td>73434081</td>\n",
       "      <td>356047</td>\n",
       "      <td>296.713554</td>\n",
       "      <td>0.005915</td>\n",
       "      <td>113.21</td>\n",
       "      <td>113.2299</td>\n",
       "      <td>112.7400</td>\n",
       "      <td>112.81</td>\n",
       "      <td>3813759</td>\n",
       "      <td>14274</td>\n",
       "      <td>112.882363</td>\n",
       "      <td>-0.004149</td>\n",
       "    </tr>\n",
       "    <tr>\n",
       "      <th>2019-09-26 04:00:00+00:00</th>\n",
       "      <td>297.62</td>\n",
       "      <td>297.8600</td>\n",
       "      <td>295.4500</td>\n",
       "      <td>297.00</td>\n",
       "      <td>58758157</td>\n",
       "      <td>329411</td>\n",
       "      <td>296.847045</td>\n",
       "      <td>-0.002083</td>\n",
       "      <td>113.00</td>\n",
       "      <td>113.1000</td>\n",
       "      <td>112.9350</td>\n",
       "      <td>113.00</td>\n",
       "      <td>4869355</td>\n",
       "      <td>11034</td>\n",
       "      <td>113.027123</td>\n",
       "      <td>0.001684</td>\n",
       "    </tr>\n",
       "    <tr>\n",
       "      <th>2019-09-27 04:00:00+00:00</th>\n",
       "      <td>297.87</td>\n",
       "      <td>297.9465</td>\n",
       "      <td>293.6900</td>\n",
       "      <td>295.40</td>\n",
       "      <td>85194715</td>\n",
       "      <td>454922</td>\n",
       "      <td>295.623896</td>\n",
       "      <td>-0.005387</td>\n",
       "      <td>113.00</td>\n",
       "      <td>113.1650</td>\n",
       "      <td>113.0000</td>\n",
       "      <td>113.14</td>\n",
       "      <td>4652474</td>\n",
       "      <td>15910</td>\n",
       "      <td>113.108829</td>\n",
       "      <td>0.001239</td>\n",
       "    </tr>\n",
       "    <tr>\n",
       "      <th>...</th>\n",
       "      <td>...</td>\n",
       "      <td>...</td>\n",
       "      <td>...</td>\n",
       "      <td>...</td>\n",
       "      <td>...</td>\n",
       "      <td>...</td>\n",
       "      <td>...</td>\n",
       "      <td>...</td>\n",
       "      <td>...</td>\n",
       "      <td>...</td>\n",
       "      <td>...</td>\n",
       "      <td>...</td>\n",
       "      <td>...</td>\n",
       "      <td>...</td>\n",
       "      <td>...</td>\n",
       "      <td>...</td>\n",
       "    </tr>\n",
       "    <tr>\n",
       "      <th>2022-09-20 04:00:00+00:00</th>\n",
       "      <td>385.10</td>\n",
       "      <td>386.1200</td>\n",
       "      <td>381.1950</td>\n",
       "      <td>384.09</td>\n",
       "      <td>76685764</td>\n",
       "      <td>555454</td>\n",
       "      <td>384.152364</td>\n",
       "      <td>-0.011479</td>\n",
       "      <td>98.20</td>\n",
       "      <td>98.4000</td>\n",
       "      <td>98.0800</td>\n",
       "      <td>98.24</td>\n",
       "      <td>11210119</td>\n",
       "      <td>22324</td>\n",
       "      <td>98.237305</td>\n",
       "      <td>-0.004459</td>\n",
       "    </tr>\n",
       "    <tr>\n",
       "      <th>2022-09-21 04:00:00+00:00</th>\n",
       "      <td>386.06</td>\n",
       "      <td>389.3100</td>\n",
       "      <td>377.3800</td>\n",
       "      <td>377.45</td>\n",
       "      <td>104302139</td>\n",
       "      <td>807310</td>\n",
       "      <td>383.197346</td>\n",
       "      <td>-0.017288</td>\n",
       "      <td>98.40</td>\n",
       "      <td>98.6001</td>\n",
       "      <td>97.8600</td>\n",
       "      <td>98.55</td>\n",
       "      <td>6674502</td>\n",
       "      <td>32613</td>\n",
       "      <td>98.321112</td>\n",
       "      <td>0.003156</td>\n",
       "    </tr>\n",
       "    <tr>\n",
       "      <th>2022-09-22 04:00:00+00:00</th>\n",
       "      <td>376.50</td>\n",
       "      <td>378.3000</td>\n",
       "      <td>373.4400</td>\n",
       "      <td>374.22</td>\n",
       "      <td>88922900</td>\n",
       "      <td>630401</td>\n",
       "      <td>375.330794</td>\n",
       "      <td>-0.008557</td>\n",
       "      <td>97.90</td>\n",
       "      <td>97.9200</td>\n",
       "      <td>97.4039</td>\n",
       "      <td>97.50</td>\n",
       "      <td>7092118</td>\n",
       "      <td>25072</td>\n",
       "      <td>97.595666</td>\n",
       "      <td>-0.010654</td>\n",
       "    </tr>\n",
       "    <tr>\n",
       "      <th>2022-09-23 04:00:00+00:00</th>\n",
       "      <td>370.58</td>\n",
       "      <td>370.6200</td>\n",
       "      <td>363.2900</td>\n",
       "      <td>367.95</td>\n",
       "      <td>121574096</td>\n",
       "      <td>838774</td>\n",
       "      <td>367.579806</td>\n",
       "      <td>-0.016755</td>\n",
       "      <td>97.40</td>\n",
       "      <td>97.4500</td>\n",
       "      <td>96.8900</td>\n",
       "      <td>97.20</td>\n",
       "      <td>11053650</td>\n",
       "      <td>41351</td>\n",
       "      <td>97.135798</td>\n",
       "      <td>-0.003077</td>\n",
       "    </tr>\n",
       "    <tr>\n",
       "      <th>2022-09-26 04:00:00+00:00</th>\n",
       "      <td>366.41</td>\n",
       "      <td>370.2100</td>\n",
       "      <td>363.0299</td>\n",
       "      <td>364.31</td>\n",
       "      <td>91679069</td>\n",
       "      <td>630216</td>\n",
       "      <td>365.932638</td>\n",
       "      <td>-0.009893</td>\n",
       "      <td>96.87</td>\n",
       "      <td>96.9100</td>\n",
       "      <td>95.8650</td>\n",
       "      <td>95.95</td>\n",
       "      <td>8467458</td>\n",
       "      <td>32084</td>\n",
       "      <td>96.272692</td>\n",
       "      <td>-0.012860</td>\n",
       "    </tr>\n",
       "  </tbody>\n",
       "</table>\n",
       "<p>759 rows × 16 columns</p>\n",
       "</div>"
      ],
      "text/plain": [
       "                              SPY                                         \\\n",
       "                             open      high       low   close     volume   \n",
       "timestamp                                                                  \n",
       "2019-09-23 04:00:00+00:00  297.57  299.0000  297.2700  298.21   47541342   \n",
       "2019-09-24 04:00:00+00:00  299.41  299.8400  294.8100  295.87   97717924   \n",
       "2019-09-25 04:00:00+00:00  295.94  298.1100  294.3300  297.62   73434081   \n",
       "2019-09-26 04:00:00+00:00  297.62  297.8600  295.4500  297.00   58758157   \n",
       "2019-09-27 04:00:00+00:00  297.87  297.9465  293.6900  295.40   85194715   \n",
       "...                           ...       ...       ...     ...        ...   \n",
       "2022-09-20 04:00:00+00:00  385.10  386.1200  381.1950  384.09   76685764   \n",
       "2022-09-21 04:00:00+00:00  386.06  389.3100  377.3800  377.45  104302139   \n",
       "2022-09-22 04:00:00+00:00  376.50  378.3000  373.4400  374.22   88922900   \n",
       "2022-09-23 04:00:00+00:00  370.58  370.6200  363.2900  367.95  121574096   \n",
       "2022-09-26 04:00:00+00:00  366.41  370.2100  363.0299  364.31   91679069   \n",
       "\n",
       "                                                                   AGG  \\\n",
       "                          trade_count        vwap daily_return    open   \n",
       "timestamp                                                                \n",
       "2019-09-23 04:00:00+00:00      221295  298.257134          NaN  113.02   \n",
       "2019-09-24 04:00:00+00:00      519834  296.679211    -0.007847  113.03   \n",
       "2019-09-25 04:00:00+00:00      356047  296.713554     0.005915  113.21   \n",
       "2019-09-26 04:00:00+00:00      329411  296.847045    -0.002083  113.00   \n",
       "2019-09-27 04:00:00+00:00      454922  295.623896    -0.005387  113.00   \n",
       "...                               ...         ...          ...     ...   \n",
       "2022-09-20 04:00:00+00:00      555454  384.152364    -0.011479   98.20   \n",
       "2022-09-21 04:00:00+00:00      807310  383.197346    -0.017288   98.40   \n",
       "2022-09-22 04:00:00+00:00      630401  375.330794    -0.008557   97.90   \n",
       "2022-09-23 04:00:00+00:00      838774  367.579806    -0.016755   97.40   \n",
       "2022-09-26 04:00:00+00:00      630216  365.932638    -0.009893   96.87   \n",
       "\n",
       "                                                                             \\\n",
       "                               high       low   close    volume trade_count   \n",
       "timestamp                                                                     \n",
       "2019-09-23 04:00:00+00:00  113.2400  112.9400  112.97   3412384       11277   \n",
       "2019-09-24 04:00:00+00:00  113.3550  113.0300  113.28   2602618       13029   \n",
       "2019-09-25 04:00:00+00:00  113.2299  112.7400  112.81   3813759       14274   \n",
       "2019-09-26 04:00:00+00:00  113.1000  112.9350  113.00   4869355       11034   \n",
       "2019-09-27 04:00:00+00:00  113.1650  113.0000  113.14   4652474       15910   \n",
       "...                             ...       ...     ...       ...         ...   \n",
       "2022-09-20 04:00:00+00:00   98.4000   98.0800   98.24  11210119       22324   \n",
       "2022-09-21 04:00:00+00:00   98.6001   97.8600   98.55   6674502       32613   \n",
       "2022-09-22 04:00:00+00:00   97.9200   97.4039   97.50   7092118       25072   \n",
       "2022-09-23 04:00:00+00:00   97.4500   96.8900   97.20  11053650       41351   \n",
       "2022-09-26 04:00:00+00:00   96.9100   95.8650   95.95   8467458       32084   \n",
       "\n",
       "                                                    \n",
       "                                 vwap daily_return  \n",
       "timestamp                                           \n",
       "2019-09-23 04:00:00+00:00  113.041895          NaN  \n",
       "2019-09-24 04:00:00+00:00  113.194793     0.002744  \n",
       "2019-09-25 04:00:00+00:00  112.882363    -0.004149  \n",
       "2019-09-26 04:00:00+00:00  113.027123     0.001684  \n",
       "2019-09-27 04:00:00+00:00  113.108829     0.001239  \n",
       "...                               ...          ...  \n",
       "2022-09-20 04:00:00+00:00   98.237305    -0.004459  \n",
       "2022-09-21 04:00:00+00:00   98.321112     0.003156  \n",
       "2022-09-22 04:00:00+00:00   97.595666    -0.010654  \n",
       "2022-09-23 04:00:00+00:00   97.135798    -0.003077  \n",
       "2022-09-26 04:00:00+00:00   96.272692    -0.012860  \n",
       "\n",
       "[759 rows x 16 columns]"
      ]
     },
     "execution_count": 69,
     "metadata": {},
     "output_type": "execute_result"
    }
   ],
   "source": [
    "# Configure a Monte Carlo simulation to forecast 10 years cumulative returns\n",
    "# The weights should be split 20% to AGG and 80% to SPY.\n",
    "# Run 500 samples.\n",
    "MC_10Y = MCSimulation(\n",
    "    prices_df,\n",
    "    weights = [.8, .2],\n",
    "    num_simulation=500,\n",
    "    num_trading_days=252*10)\n",
    "\n",
    "# Review the simulation input data\n",
    "MC_10Y.portfolio_data\n"
   ]
  },
  {
   "cell_type": "code",
   "execution_count": 70,
   "metadata": {},
   "outputs": [
    {
     "name": "stdout",
     "output_type": "stream",
     "text": [
      "Running Monte Carlo simulation number 0.\n",
      "Running Monte Carlo simulation number 10.\n",
      "Running Monte Carlo simulation number 20.\n",
      "Running Monte Carlo simulation number 30.\n",
      "Running Monte Carlo simulation number 40.\n",
      "Running Monte Carlo simulation number 50.\n",
      "Running Monte Carlo simulation number 60.\n",
      "Running Monte Carlo simulation number 70.\n",
      "Running Monte Carlo simulation number 80.\n",
      "Running Monte Carlo simulation number 90.\n",
      "Running Monte Carlo simulation number 100.\n"
     ]
    },
    {
     "name": "stderr",
     "output_type": "stream",
     "text": [
      "/Users/andrewisrael/Desktop/Columbia FinTech Bootcamp/Challenges/5-Challenge/MCForecastTools.py:117: PerformanceWarning: DataFrame is highly fragmented.  This is usually the result of calling `frame.insert` many times, which has poor performance.  Consider joining all columns at once using pd.concat(axis=1) instead.  To get a de-fragmented frame, use `newframe = frame.copy()`\n",
      "  portfolio_cumulative_returns[n] = (1 + sim_df.fillna(0)).cumprod()\n"
     ]
    },
    {
     "name": "stdout",
     "output_type": "stream",
     "text": [
      "Running Monte Carlo simulation number 110.\n",
      "Running Monte Carlo simulation number 120.\n",
      "Running Monte Carlo simulation number 130.\n",
      "Running Monte Carlo simulation number 140.\n",
      "Running Monte Carlo simulation number 150.\n",
      "Running Monte Carlo simulation number 160.\n",
      "Running Monte Carlo simulation number 170.\n",
      "Running Monte Carlo simulation number 180.\n",
      "Running Monte Carlo simulation number 190.\n",
      "Running Monte Carlo simulation number 200.\n",
      "Running Monte Carlo simulation number 210.\n",
      "Running Monte Carlo simulation number 220.\n",
      "Running Monte Carlo simulation number 230.\n",
      "Running Monte Carlo simulation number 240.\n",
      "Running Monte Carlo simulation number 250.\n",
      "Running Monte Carlo simulation number 260.\n",
      "Running Monte Carlo simulation number 270.\n",
      "Running Monte Carlo simulation number 280.\n",
      "Running Monte Carlo simulation number 290.\n",
      "Running Monte Carlo simulation number 300.\n",
      "Running Monte Carlo simulation number 310.\n",
      "Running Monte Carlo simulation number 320.\n",
      "Running Monte Carlo simulation number 330.\n",
      "Running Monte Carlo simulation number 340.\n",
      "Running Monte Carlo simulation number 350.\n",
      "Running Monte Carlo simulation number 360.\n",
      "Running Monte Carlo simulation number 370.\n",
      "Running Monte Carlo simulation number 380.\n",
      "Running Monte Carlo simulation number 390.\n",
      "Running Monte Carlo simulation number 400.\n",
      "Running Monte Carlo simulation number 410.\n",
      "Running Monte Carlo simulation number 420.\n",
      "Running Monte Carlo simulation number 430.\n",
      "Running Monte Carlo simulation number 440.\n",
      "Running Monte Carlo simulation number 450.\n",
      "Running Monte Carlo simulation number 460.\n",
      "Running Monte Carlo simulation number 470.\n",
      "Running Monte Carlo simulation number 480.\n",
      "Running Monte Carlo simulation number 490.\n"
     ]
    },
    {
     "data": {
      "text/html": [
       "<div>\n",
       "<style scoped>\n",
       "    .dataframe tbody tr th:only-of-type {\n",
       "        vertical-align: middle;\n",
       "    }\n",
       "\n",
       "    .dataframe tbody tr th {\n",
       "        vertical-align: top;\n",
       "    }\n",
       "\n",
       "    .dataframe thead th {\n",
       "        text-align: right;\n",
       "    }\n",
       "</style>\n",
       "<table border=\"1\" class=\"dataframe\">\n",
       "  <thead>\n",
       "    <tr style=\"text-align: right;\">\n",
       "      <th></th>\n",
       "      <th>0</th>\n",
       "      <th>1</th>\n",
       "      <th>2</th>\n",
       "      <th>3</th>\n",
       "      <th>4</th>\n",
       "      <th>5</th>\n",
       "      <th>6</th>\n",
       "      <th>7</th>\n",
       "      <th>8</th>\n",
       "      <th>9</th>\n",
       "      <th>...</th>\n",
       "      <th>490</th>\n",
       "      <th>491</th>\n",
       "      <th>492</th>\n",
       "      <th>493</th>\n",
       "      <th>494</th>\n",
       "      <th>495</th>\n",
       "      <th>496</th>\n",
       "      <th>497</th>\n",
       "      <th>498</th>\n",
       "      <th>499</th>\n",
       "    </tr>\n",
       "  </thead>\n",
       "  <tbody>\n",
       "    <tr>\n",
       "      <th>0</th>\n",
       "      <td>1.000000</td>\n",
       "      <td>1.000000</td>\n",
       "      <td>1.000000</td>\n",
       "      <td>1.000000</td>\n",
       "      <td>1.000000</td>\n",
       "      <td>1.000000</td>\n",
       "      <td>1.000000</td>\n",
       "      <td>1.000000</td>\n",
       "      <td>1.000000</td>\n",
       "      <td>1.000000</td>\n",
       "      <td>...</td>\n",
       "      <td>1.000000</td>\n",
       "      <td>1.000000</td>\n",
       "      <td>1.000000</td>\n",
       "      <td>1.000000</td>\n",
       "      <td>1.000000</td>\n",
       "      <td>1.000000</td>\n",
       "      <td>1.000000</td>\n",
       "      <td>1.000000</td>\n",
       "      <td>1.000000</td>\n",
       "      <td>1.000000</td>\n",
       "    </tr>\n",
       "    <tr>\n",
       "      <th>1</th>\n",
       "      <td>0.992835</td>\n",
       "      <td>1.002829</td>\n",
       "      <td>1.008482</td>\n",
       "      <td>1.014231</td>\n",
       "      <td>1.000404</td>\n",
       "      <td>1.004685</td>\n",
       "      <td>0.989771</td>\n",
       "      <td>1.015012</td>\n",
       "      <td>1.017381</td>\n",
       "      <td>1.001422</td>\n",
       "      <td>...</td>\n",
       "      <td>1.008391</td>\n",
       "      <td>0.995030</td>\n",
       "      <td>0.989029</td>\n",
       "      <td>0.992774</td>\n",
       "      <td>0.991129</td>\n",
       "      <td>1.002328</td>\n",
       "      <td>1.010346</td>\n",
       "      <td>0.994672</td>\n",
       "      <td>1.012283</td>\n",
       "      <td>0.983673</td>\n",
       "    </tr>\n",
       "    <tr>\n",
       "      <th>2</th>\n",
       "      <td>0.977351</td>\n",
       "      <td>1.017105</td>\n",
       "      <td>1.012460</td>\n",
       "      <td>1.003018</td>\n",
       "      <td>1.003283</td>\n",
       "      <td>0.991026</td>\n",
       "      <td>0.990362</td>\n",
       "      <td>1.020592</td>\n",
       "      <td>1.022728</td>\n",
       "      <td>1.005433</td>\n",
       "      <td>...</td>\n",
       "      <td>1.019892</td>\n",
       "      <td>0.988777</td>\n",
       "      <td>0.978835</td>\n",
       "      <td>1.016144</td>\n",
       "      <td>0.993069</td>\n",
       "      <td>1.010232</td>\n",
       "      <td>1.020682</td>\n",
       "      <td>0.994579</td>\n",
       "      <td>1.016724</td>\n",
       "      <td>0.979880</td>\n",
       "    </tr>\n",
       "    <tr>\n",
       "      <th>3</th>\n",
       "      <td>0.982943</td>\n",
       "      <td>1.025719</td>\n",
       "      <td>1.014704</td>\n",
       "      <td>1.005984</td>\n",
       "      <td>1.023390</td>\n",
       "      <td>0.964330</td>\n",
       "      <td>0.976334</td>\n",
       "      <td>1.030175</td>\n",
       "      <td>1.010809</td>\n",
       "      <td>1.013583</td>\n",
       "      <td>...</td>\n",
       "      <td>1.017997</td>\n",
       "      <td>0.980953</td>\n",
       "      <td>0.943278</td>\n",
       "      <td>1.011732</td>\n",
       "      <td>0.993152</td>\n",
       "      <td>1.022981</td>\n",
       "      <td>1.026149</td>\n",
       "      <td>1.013399</td>\n",
       "      <td>1.005338</td>\n",
       "      <td>0.970351</td>\n",
       "    </tr>\n",
       "    <tr>\n",
       "      <th>4</th>\n",
       "      <td>0.985444</td>\n",
       "      <td>1.036801</td>\n",
       "      <td>1.021657</td>\n",
       "      <td>1.011888</td>\n",
       "      <td>1.019894</td>\n",
       "      <td>0.961296</td>\n",
       "      <td>0.998905</td>\n",
       "      <td>1.046748</td>\n",
       "      <td>1.016217</td>\n",
       "      <td>1.012796</td>\n",
       "      <td>...</td>\n",
       "      <td>1.019459</td>\n",
       "      <td>0.967943</td>\n",
       "      <td>0.929487</td>\n",
       "      <td>1.019221</td>\n",
       "      <td>1.000720</td>\n",
       "      <td>1.016912</td>\n",
       "      <td>1.019610</td>\n",
       "      <td>1.022907</td>\n",
       "      <td>1.005326</td>\n",
       "      <td>0.947639</td>\n",
       "    </tr>\n",
       "    <tr>\n",
       "      <th>...</th>\n",
       "      <td>...</td>\n",
       "      <td>...</td>\n",
       "      <td>...</td>\n",
       "      <td>...</td>\n",
       "      <td>...</td>\n",
       "      <td>...</td>\n",
       "      <td>...</td>\n",
       "      <td>...</td>\n",
       "      <td>...</td>\n",
       "      <td>...</td>\n",
       "      <td>...</td>\n",
       "      <td>...</td>\n",
       "      <td>...</td>\n",
       "      <td>...</td>\n",
       "      <td>...</td>\n",
       "      <td>...</td>\n",
       "      <td>...</td>\n",
       "      <td>...</td>\n",
       "      <td>...</td>\n",
       "      <td>...</td>\n",
       "      <td>...</td>\n",
       "    </tr>\n",
       "    <tr>\n",
       "      <th>2516</th>\n",
       "      <td>0.786551</td>\n",
       "      <td>1.498580</td>\n",
       "      <td>0.565869</td>\n",
       "      <td>1.102125</td>\n",
       "      <td>1.786469</td>\n",
       "      <td>1.622752</td>\n",
       "      <td>0.465457</td>\n",
       "      <td>1.068290</td>\n",
       "      <td>1.697292</td>\n",
       "      <td>2.604502</td>\n",
       "      <td>...</td>\n",
       "      <td>0.599368</td>\n",
       "      <td>2.751288</td>\n",
       "      <td>1.388086</td>\n",
       "      <td>0.548761</td>\n",
       "      <td>1.360658</td>\n",
       "      <td>2.165386</td>\n",
       "      <td>2.182586</td>\n",
       "      <td>1.078548</td>\n",
       "      <td>1.822163</td>\n",
       "      <td>2.397407</td>\n",
       "    </tr>\n",
       "    <tr>\n",
       "      <th>2517</th>\n",
       "      <td>0.772839</td>\n",
       "      <td>1.486051</td>\n",
       "      <td>0.561851</td>\n",
       "      <td>1.098374</td>\n",
       "      <td>1.804565</td>\n",
       "      <td>1.618827</td>\n",
       "      <td>0.471825</td>\n",
       "      <td>1.066308</td>\n",
       "      <td>1.692154</td>\n",
       "      <td>2.625292</td>\n",
       "      <td>...</td>\n",
       "      <td>0.596236</td>\n",
       "      <td>2.735009</td>\n",
       "      <td>1.377877</td>\n",
       "      <td>0.557562</td>\n",
       "      <td>1.354156</td>\n",
       "      <td>2.168862</td>\n",
       "      <td>2.136804</td>\n",
       "      <td>1.075393</td>\n",
       "      <td>1.850193</td>\n",
       "      <td>2.398744</td>\n",
       "    </tr>\n",
       "    <tr>\n",
       "      <th>2518</th>\n",
       "      <td>0.756315</td>\n",
       "      <td>1.500540</td>\n",
       "      <td>0.571913</td>\n",
       "      <td>1.105653</td>\n",
       "      <td>1.801599</td>\n",
       "      <td>1.596179</td>\n",
       "      <td>0.471073</td>\n",
       "      <td>1.079104</td>\n",
       "      <td>1.683521</td>\n",
       "      <td>2.636769</td>\n",
       "      <td>...</td>\n",
       "      <td>0.597136</td>\n",
       "      <td>2.740479</td>\n",
       "      <td>1.369227</td>\n",
       "      <td>0.556579</td>\n",
       "      <td>1.349014</td>\n",
       "      <td>2.161090</td>\n",
       "      <td>2.114824</td>\n",
       "      <td>1.094019</td>\n",
       "      <td>1.823889</td>\n",
       "      <td>2.419146</td>\n",
       "    </tr>\n",
       "    <tr>\n",
       "      <th>2519</th>\n",
       "      <td>0.754629</td>\n",
       "      <td>1.524104</td>\n",
       "      <td>0.566388</td>\n",
       "      <td>1.118096</td>\n",
       "      <td>1.811724</td>\n",
       "      <td>1.625334</td>\n",
       "      <td>0.473625</td>\n",
       "      <td>1.074355</td>\n",
       "      <td>1.707765</td>\n",
       "      <td>2.611626</td>\n",
       "      <td>...</td>\n",
       "      <td>0.604732</td>\n",
       "      <td>2.718948</td>\n",
       "      <td>1.355178</td>\n",
       "      <td>0.575178</td>\n",
       "      <td>1.380316</td>\n",
       "      <td>2.181002</td>\n",
       "      <td>2.085410</td>\n",
       "      <td>1.056860</td>\n",
       "      <td>1.811507</td>\n",
       "      <td>2.424479</td>\n",
       "    </tr>\n",
       "    <tr>\n",
       "      <th>2520</th>\n",
       "      <td>0.760125</td>\n",
       "      <td>1.527875</td>\n",
       "      <td>0.572077</td>\n",
       "      <td>1.118115</td>\n",
       "      <td>1.822490</td>\n",
       "      <td>1.613776</td>\n",
       "      <td>0.472931</td>\n",
       "      <td>1.059572</td>\n",
       "      <td>1.736943</td>\n",
       "      <td>2.625843</td>\n",
       "      <td>...</td>\n",
       "      <td>0.602757</td>\n",
       "      <td>2.713744</td>\n",
       "      <td>1.393904</td>\n",
       "      <td>0.577443</td>\n",
       "      <td>1.379164</td>\n",
       "      <td>2.225334</td>\n",
       "      <td>2.084503</td>\n",
       "      <td>1.052896</td>\n",
       "      <td>1.826236</td>\n",
       "      <td>2.415852</td>\n",
       "    </tr>\n",
       "  </tbody>\n",
       "</table>\n",
       "<p>2521 rows × 500 columns</p>\n",
       "</div>"
      ],
      "text/plain": [
       "           0         1         2         3         4         5         6    \\\n",
       "0     1.000000  1.000000  1.000000  1.000000  1.000000  1.000000  1.000000   \n",
       "1     0.992835  1.002829  1.008482  1.014231  1.000404  1.004685  0.989771   \n",
       "2     0.977351  1.017105  1.012460  1.003018  1.003283  0.991026  0.990362   \n",
       "3     0.982943  1.025719  1.014704  1.005984  1.023390  0.964330  0.976334   \n",
       "4     0.985444  1.036801  1.021657  1.011888  1.019894  0.961296  0.998905   \n",
       "...        ...       ...       ...       ...       ...       ...       ...   \n",
       "2516  0.786551  1.498580  0.565869  1.102125  1.786469  1.622752  0.465457   \n",
       "2517  0.772839  1.486051  0.561851  1.098374  1.804565  1.618827  0.471825   \n",
       "2518  0.756315  1.500540  0.571913  1.105653  1.801599  1.596179  0.471073   \n",
       "2519  0.754629  1.524104  0.566388  1.118096  1.811724  1.625334  0.473625   \n",
       "2520  0.760125  1.527875  0.572077  1.118115  1.822490  1.613776  0.472931   \n",
       "\n",
       "           7         8         9    ...       490       491       492  \\\n",
       "0     1.000000  1.000000  1.000000  ...  1.000000  1.000000  1.000000   \n",
       "1     1.015012  1.017381  1.001422  ...  1.008391  0.995030  0.989029   \n",
       "2     1.020592  1.022728  1.005433  ...  1.019892  0.988777  0.978835   \n",
       "3     1.030175  1.010809  1.013583  ...  1.017997  0.980953  0.943278   \n",
       "4     1.046748  1.016217  1.012796  ...  1.019459  0.967943  0.929487   \n",
       "...        ...       ...       ...  ...       ...       ...       ...   \n",
       "2516  1.068290  1.697292  2.604502  ...  0.599368  2.751288  1.388086   \n",
       "2517  1.066308  1.692154  2.625292  ...  0.596236  2.735009  1.377877   \n",
       "2518  1.079104  1.683521  2.636769  ...  0.597136  2.740479  1.369227   \n",
       "2519  1.074355  1.707765  2.611626  ...  0.604732  2.718948  1.355178   \n",
       "2520  1.059572  1.736943  2.625843  ...  0.602757  2.713744  1.393904   \n",
       "\n",
       "           493       494       495       496       497       498       499  \n",
       "0     1.000000  1.000000  1.000000  1.000000  1.000000  1.000000  1.000000  \n",
       "1     0.992774  0.991129  1.002328  1.010346  0.994672  1.012283  0.983673  \n",
       "2     1.016144  0.993069  1.010232  1.020682  0.994579  1.016724  0.979880  \n",
       "3     1.011732  0.993152  1.022981  1.026149  1.013399  1.005338  0.970351  \n",
       "4     1.019221  1.000720  1.016912  1.019610  1.022907  1.005326  0.947639  \n",
       "...        ...       ...       ...       ...       ...       ...       ...  \n",
       "2516  0.548761  1.360658  2.165386  2.182586  1.078548  1.822163  2.397407  \n",
       "2517  0.557562  1.354156  2.168862  2.136804  1.075393  1.850193  2.398744  \n",
       "2518  0.556579  1.349014  2.161090  2.114824  1.094019  1.823889  2.419146  \n",
       "2519  0.575178  1.380316  2.181002  2.085410  1.056860  1.811507  2.424479  \n",
       "2520  0.577443  1.379164  2.225334  2.084503  1.052896  1.826236  2.415852  \n",
       "\n",
       "[2521 rows x 500 columns]"
      ]
     },
     "execution_count": 70,
     "metadata": {},
     "output_type": "execute_result"
    }
   ],
   "source": [
    "# Run the Monte Carlo simulation to forecast 10 years cumulative returns\n",
    "MC_10Y.calc_cumulative_return()"
   ]
  },
  {
   "cell_type": "code",
   "execution_count": 72,
   "metadata": {},
   "outputs": [
    {
     "data": {
      "image/png": "[encoded data removed]",
      "text/plain": [
       "<Figure size 432x288 with 1 Axes>"
      ]
     },
     "metadata": {
      "needs_background": "light"
     },
     "output_type": "display_data"
    }
   ],
   "source": [
    "# Visualize the 10-year Monte Carlo simulation by creating an\n",
    "# overlay line plot\n",
    "MC_10Y_sim_line_plot = MC_10Y.plot_simulation()\n"
   ]
  },
  {
   "cell_type": "code",
   "execution_count": 73,
   "metadata": {},
   "outputs": [
    {
     "data": {
      "image/png": "[encoded data removed]",
      "text/plain": [
       "<Figure size 432x288 with 1 Axes>"
      ]
     },
     "metadata": {
      "needs_background": "light"
     },
     "output_type": "display_data"
    }
   ],
   "source": [
    "# Visualize the probability distribution of the 10-year Monte Carlo simulation \n",
    "# by plotting a histogram\n",
    "MC_10Y_sim_dist_plot = MC_10Y.plot_distribution()\n"
   ]
  },
  {
   "cell_type": "code",
   "execution_count": 74,
   "metadata": {},
   "outputs": [
    {
     "data": {
      "text/plain": [
       "count           500.000000\n",
       "mean              1.818019\n",
       "std               1.176114\n",
       "min               0.302583\n",
       "25%               1.023450\n",
       "50%               1.507077\n",
       "75%               2.273827\n",
       "max               9.721015\n",
       "95% CI Lower      0.479199\n",
       "95% CI Upper      4.902631\n",
       "Name: 2520, dtype: float64"
      ]
     },
     "execution_count": 74,
     "metadata": {},
     "output_type": "execute_result"
    }
   ],
   "source": [
    "# Generate summary statistics from the 10-year Monte Carlo simulation results\n",
    "# Save the results as a variable\n",
    "MC_10Y_summary_stats = MC_10Y.summarize_cumulative_return()\n",
    "\n",
    "# Review the 10-year Monte Carlo summary statistics\n",
    "MC_10Y_summary_stats"
   ]
  },
  {
   "cell_type": "markdown",
   "metadata": {},
   "source": [
    "### Answer the following questions:"
   ]
  },
  {
   "cell_type": "markdown",
   "metadata": {},
   "source": [
    "#### Question: Using the current value of only the stock and bond portion of the member's portfolio and the summary statistics that you generated from the new Monte Carlo simulation, what are the lower and upper bounds for the expected value of the portfolio (with the new weights) with a 95% confidence interval?"
   ]
  },
  {
   "cell_type": "code",
   "execution_count": 80,
   "metadata": {},
   "outputs": [
    {
     "name": "stdout",
     "output_type": "stream",
     "text": [
      "Current balance of stock and bond portion of portfolio: $59914.500000\n"
     ]
    }
   ],
   "source": [
    "# Print the current balance of the stock and bond portion of the members portfolio\n",
    "print(f\"Current balance of stock and bond portion of portfolio: ${total_stocks_bonds:2f}\")\n"
   ]
  },
  {
   "cell_type": "code",
   "execution_count": 82,
   "metadata": {},
   "outputs": [
    {
     "name": "stdout",
     "output_type": "stream",
     "text": [
      "95% confidence interval for stock/bond portfolio value in 10 years: ($28710.94, $ 293738.69)\n"
     ]
    }
   ],
   "source": [
    "# Use the lower and upper `95%` confidence intervals to calculate the range of the possible outcomes for the current stock/bond portfolio\n",
    "ci_lower_ten_cumulative_return = MC_10Y_summary_stats[8]\n",
    "ci_upper_ten_cumulative_return = MC_10Y_summary_stats[9]\n",
    "\n",
    "# Print the result of your calculations\n",
    "print(f\"95% confidence interval for stock/bond portfolio value in 10 years: (${ci_lower_ten_cumulative_return*total_stocks_bonds:.2f}, ${ci_upper_ten_cumulative_return*total_stocks_bonds: .2f})\")\n"
   ]
  },
  {
   "cell_type": "markdown",
   "metadata": {},
   "source": [
    "#### Question: Will weighting the portfolio more heavily to stocks allow the credit union members to retire after only 10 years?\n",
    "\n",
    "Answer No. Allocating more havily to stocks for 10 years leaves us with a 2.5% probability that the portfolio will be worth $28,710.94 or less. This is lower than the necessary savings amount of $36,000. "
   ]
  }
 ],
 "metadata": {
  "kernelspec": {
   "display_name": "Python 3 (ipykernel)",
   "language": "python",
   "name": "python3"
  },
  "language_info": {
   "codemirror_mode": {
    "name": "ipython",
    "version": 3
   },
   "file_extension": ".py",
   "mimetype": "text/x-python",
   "name": "python",
   "nbconvert_exporter": "python",
   "pygments_lexer": "ipython3",
   "version": "3.9.7"
  }
 },
 "nbformat": 4,
 "nbformat_minor": 4
}
